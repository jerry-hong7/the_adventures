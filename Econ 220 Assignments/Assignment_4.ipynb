{
 "cells": [
  {
   "cell_type": "markdown",
   "metadata": {},
   "source": [
    "# Assignment 4: Descriptive Tables\n",
    "## Author: Jerry Hong"
   ]
  },
  {
   "cell_type": "code",
   "execution_count": 2,
   "metadata": {},
   "outputs": [
    {
     "name": "stdout",
     "output_type": "stream",
     "text": [
      "C:\\Users\\jerry\\OneDrive - Emory University\\AtlantaJunior\\Fall 2022\\ECON 220\\Lab\\Homework\n"
     ]
    }
   ],
   "source": [
    "# Find working directory\n",
    "import os\n",
    "path = os.getcwd()\n",
    "print(path)"
   ]
  },
  {
   "cell_type": "code",
   "execution_count": 1,
   "metadata": {},
   "outputs": [],
   "source": [
    "# Import packages here: numpy, pandas, and seaborn\n",
    "import numpy as np\n",
    "import pandas as pd\n",
    "import seaborn as sns"
   ]
  },
  {
   "cell_type": "markdown",
   "metadata": {},
   "source": [
    "## Import Data Set\n",
    "- Import the data set on women labor force participation from Canvas: Files $\\to$ Data $\\to$ mroz.csv\n",
    "- The description of the variables can be found [here](http://fmwww.bc.edu/ec-p/data/wooldridge/mroz.des)"
   ]
  },
  {
   "cell_type": "code",
   "execution_count": 8,
   "metadata": {},
   "outputs": [
    {
     "name": "stdout",
     "output_type": "stream",
     "text": [
      "<class 'pandas.core.frame.DataFrame'>\n",
      "RangeIndex: 753 entries, 0 to 752\n",
      "Data columns (total 22 columns):\n",
      " #   Column    Non-Null Count  Dtype  \n",
      "---  ------    --------------  -----  \n",
      " 0   inlf      753 non-null    int64  \n",
      " 1   hours     753 non-null    int64  \n",
      " 2   kidslt6   753 non-null    int64  \n",
      " 3   kidsge6   753 non-null    int64  \n",
      " 4   age       753 non-null    int64  \n",
      " 5   educ      753 non-null    int64  \n",
      " 6   wage      428 non-null    float64\n",
      " 7   repwage   753 non-null    float64\n",
      " 8   hushrs    753 non-null    int64  \n",
      " 9   husage    753 non-null    int64  \n",
      " 10  huseduc   753 non-null    int64  \n",
      " 11  huswage   753 non-null    float64\n",
      " 12  faminc    753 non-null    int64  \n",
      " 13  mtr       753 non-null    float64\n",
      " 14  motheduc  753 non-null    int64  \n",
      " 15  fatheduc  753 non-null    int64  \n",
      " 16  unem      753 non-null    float64\n",
      " 17  city      753 non-null    int64  \n",
      " 18  exper     753 non-null    int64  \n",
      " 19  nwifeinc  753 non-null    float64\n",
      " 20  lwage     428 non-null    float64\n",
      " 21  expersq   753 non-null    int64  \n",
      "dtypes: float64(7), int64(15)\n",
      "memory usage: 129.5 KB\n"
     ]
    }
   ],
   "source": [
    "# Import data\n",
    "labor = pd.read_csv(r\"C:\\Users\\jerry\\OneDrive - Emory University\\AtlantaJunior\\Fall 2022\\ECON 220\\Lab\\Data\\mroz.csv\")\n",
    "\n",
    "\n",
    "# Check the information of the data set\n",
    "\n",
    "labor.info()\n"
   ]
  },
  {
   "cell_type": "markdown",
   "metadata": {},
   "source": [
    "## Crosstabs and Pivot Tables\n",
    "- Create a crosstab to show the frequency of women by labor force participation and whether someone lives in the city\n",
    "- Create another crosstab to show the relative frequency of women by labor force participation and whether someone lives in the city\n",
    "- Create a pivot table to summarize the mean of education by labor force participation and whether someone lives in the city. Round to 2 decimal places\n",
    "- Create another pivot table to summarize the mean of education by labor force participation and THEN whether someone lives in the city. Round to 2 decimal places"
   ]
  },
  {
   "cell_type": "code",
   "execution_count": 9,
   "metadata": {},
   "outputs": [
    {
     "data": {
      "text/plain": [
       "1    484\n",
       "0    269\n",
       "Name: city, dtype: int64"
      ]
     },
     "execution_count": 9,
     "metadata": {},
     "output_type": "execute_result"
    }
   ],
   "source": [
    "# Use value_counts() to inspect the values that the variable \"city\" can take\n",
    "labor['city'].value_counts()"
   ]
  },
  {
   "cell_type": "code",
   "execution_count": 10,
   "metadata": {},
   "outputs": [
    {
     "data": {
      "text/plain": [
       "1    428\n",
       "0    325\n",
       "Name: inlf, dtype: int64"
      ]
     },
     "execution_count": 10,
     "metadata": {},
     "output_type": "execute_result"
    }
   ],
   "source": [
    "# Inspect the values that the variable \"inlf\" (in labor force) can take\n",
    "labor['inlf'].value_counts()"
   ]
  },
  {
   "cell_type": "code",
   "execution_count": 11,
   "metadata": {},
   "outputs": [],
   "source": [
    "# Convert \"city\" and \"inlf\" into categorical variables to rename them later\n",
    "labor['city'] = labor['city'].astype('category')\n",
    "labor['inlf'] = labor['inlf'].astype('category')"
   ]
  },
  {
   "cell_type": "code",
   "execution_count": 12,
   "metadata": {},
   "outputs": [],
   "source": [
    "# Rename the categories within \"city\" and \"inlf\": HINT\n",
    "labor['city'] = labor['city'].cat.rename_categories({0: \"not city\", 1: \"city\"})\n",
    "labor['inlf'] = labor['inlf'].cat.rename_categories({0: \"not in LF\", 1: \"in LF\"})"
   ]
  },
  {
   "cell_type": "code",
   "execution_count": 44,
   "metadata": {},
   "outputs": [
    {
     "data": {
      "text/html": [
       "<div>\n",
       "<style scoped>\n",
       "    .dataframe tbody tr th:only-of-type {\n",
       "        vertical-align: middle;\n",
       "    }\n",
       "\n",
       "    .dataframe tbody tr th {\n",
       "        vertical-align: top;\n",
       "    }\n",
       "\n",
       "    .dataframe thead th {\n",
       "        text-align: right;\n",
       "    }\n",
       "</style>\n",
       "<table border=\"1\" class=\"dataframe\">\n",
       "  <thead>\n",
       "    <tr style=\"text-align: right;\">\n",
       "      <th>city</th>\n",
       "      <th>not city</th>\n",
       "      <th>city</th>\n",
       "      <th>All</th>\n",
       "    </tr>\n",
       "    <tr>\n",
       "      <th>inlf</th>\n",
       "      <th></th>\n",
       "      <th></th>\n",
       "      <th></th>\n",
       "    </tr>\n",
       "  </thead>\n",
       "  <tbody>\n",
       "    <tr>\n",
       "      <th>not in LF</th>\n",
       "      <td>115</td>\n",
       "      <td>210</td>\n",
       "      <td>325</td>\n",
       "    </tr>\n",
       "    <tr>\n",
       "      <th>in LF</th>\n",
       "      <td>154</td>\n",
       "      <td>274</td>\n",
       "      <td>428</td>\n",
       "    </tr>\n",
       "    <tr>\n",
       "      <th>All</th>\n",
       "      <td>269</td>\n",
       "      <td>484</td>\n",
       "      <td>753</td>\n",
       "    </tr>\n",
       "  </tbody>\n",
       "</table>\n",
       "</div>"
      ],
      "text/plain": [
       "city       not city  city  All\n",
       "inlf                          \n",
       "not in LF       115   210  325\n",
       "in LF           154   274  428\n",
       "All             269   484  753"
      ]
     },
     "execution_count": 44,
     "metadata": {},
     "output_type": "execute_result"
    }
   ],
   "source": [
    "# Create a table to show the frequency of women by labor force participation and whether someone lives in the city\n",
    "pd.crosstab(labor.inlf, labor.city, margins=True)"
   ]
  },
  {
   "cell_type": "code",
   "execution_count": 45,
   "metadata": {},
   "outputs": [
    {
     "data": {
      "text/html": [
       "<div>\n",
       "<style scoped>\n",
       "    .dataframe tbody tr th:only-of-type {\n",
       "        vertical-align: middle;\n",
       "    }\n",
       "\n",
       "    .dataframe tbody tr th {\n",
       "        vertical-align: top;\n",
       "    }\n",
       "\n",
       "    .dataframe thead th {\n",
       "        text-align: right;\n",
       "    }\n",
       "</style>\n",
       "<table border=\"1\" class=\"dataframe\">\n",
       "  <thead>\n",
       "    <tr style=\"text-align: right;\">\n",
       "      <th>city</th>\n",
       "      <th>not city</th>\n",
       "      <th>city</th>\n",
       "      <th>All</th>\n",
       "    </tr>\n",
       "    <tr>\n",
       "      <th>inlf</th>\n",
       "      <th></th>\n",
       "      <th></th>\n",
       "      <th></th>\n",
       "    </tr>\n",
       "  </thead>\n",
       "  <tbody>\n",
       "    <tr>\n",
       "      <th>not in LF</th>\n",
       "      <td>0.152722</td>\n",
       "      <td>0.278884</td>\n",
       "      <td>0.431607</td>\n",
       "    </tr>\n",
       "    <tr>\n",
       "      <th>in LF</th>\n",
       "      <td>0.204515</td>\n",
       "      <td>0.363878</td>\n",
       "      <td>0.568393</td>\n",
       "    </tr>\n",
       "    <tr>\n",
       "      <th>All</th>\n",
       "      <td>0.357238</td>\n",
       "      <td>0.642762</td>\n",
       "      <td>1.000000</td>\n",
       "    </tr>\n",
       "  </tbody>\n",
       "</table>\n",
       "</div>"
      ],
      "text/plain": [
       "city       not city      city       All\n",
       "inlf                                   \n",
       "not in LF  0.152722  0.278884  0.431607\n",
       "in LF      0.204515  0.363878  0.568393\n",
       "All        0.357238  0.642762  1.000000"
      ]
     },
     "execution_count": 45,
     "metadata": {},
     "output_type": "execute_result"
    }
   ],
   "source": [
    "# Create a table to show the relative frequency (proportion) of women by labor force participation and whether someone \n",
    "# lives in the city\n",
    "pd.crosstab(labor.inlf, labor.city, margins=True, normalize=True)"
   ]
  },
  {
   "cell_type": "code",
   "execution_count": 37,
   "metadata": {},
   "outputs": [
    {
     "data": {
      "text/html": [
       "<div>\n",
       "<style scoped>\n",
       "    .dataframe tbody tr th:only-of-type {\n",
       "        vertical-align: middle;\n",
       "    }\n",
       "\n",
       "    .dataframe tbody tr th {\n",
       "        vertical-align: top;\n",
       "    }\n",
       "\n",
       "    .dataframe thead tr th {\n",
       "        text-align: left;\n",
       "    }\n",
       "\n",
       "    .dataframe thead tr:last-of-type th {\n",
       "        text-align: right;\n",
       "    }\n",
       "</style>\n",
       "<table border=\"1\" class=\"dataframe\">\n",
       "  <thead>\n",
       "    <tr>\n",
       "      <th></th>\n",
       "      <th colspan=\"2\" halign=\"left\">educ</th>\n",
       "    </tr>\n",
       "    <tr>\n",
       "      <th>city</th>\n",
       "      <th>not city</th>\n",
       "      <th>city</th>\n",
       "    </tr>\n",
       "    <tr>\n",
       "      <th>inlf</th>\n",
       "      <th></th>\n",
       "      <th></th>\n",
       "    </tr>\n",
       "  </thead>\n",
       "  <tbody>\n",
       "    <tr>\n",
       "      <th>not in LF</th>\n",
       "      <td>11.30</td>\n",
       "      <td>12.07</td>\n",
       "    </tr>\n",
       "    <tr>\n",
       "      <th>in LF</th>\n",
       "      <td>12.18</td>\n",
       "      <td>12.93</td>\n",
       "    </tr>\n",
       "  </tbody>\n",
       "</table>\n",
       "</div>"
      ],
      "text/plain": [
       "              educ       \n",
       "city      not city   city\n",
       "inlf                     \n",
       "not in LF    11.30  12.07\n",
       "in LF        12.18  12.93"
      ]
     },
     "execution_count": 37,
     "metadata": {},
     "output_type": "execute_result"
    }
   ],
   "source": [
    "# Create a pivot table to summarize the mean of education by labor force participation and whether someone lives in the city\n",
    "# Round to 2 decimal places\n",
    "pivot1 = labor.pivot_table(values=['educ'],\n",
    "                          index='inlf',\n",
    "                          columns='city',\n",
    "                          aggfunc='mean').round(2)\n",
    "pivot1"
   ]
  },
  {
   "cell_type": "code",
   "execution_count": 39,
   "metadata": {},
   "outputs": [
    {
     "data": {
      "text/html": [
       "<div>\n",
       "<style scoped>\n",
       "    .dataframe tbody tr th:only-of-type {\n",
       "        vertical-align: middle;\n",
       "    }\n",
       "\n",
       "    .dataframe tbody tr th {\n",
       "        vertical-align: top;\n",
       "    }\n",
       "\n",
       "    .dataframe thead th {\n",
       "        text-align: right;\n",
       "    }\n",
       "</style>\n",
       "<table border=\"1\" class=\"dataframe\">\n",
       "  <thead>\n",
       "    <tr style=\"text-align: right;\">\n",
       "      <th></th>\n",
       "      <th></th>\n",
       "      <th>educ</th>\n",
       "    </tr>\n",
       "    <tr>\n",
       "      <th>inlf</th>\n",
       "      <th>city</th>\n",
       "      <th></th>\n",
       "    </tr>\n",
       "  </thead>\n",
       "  <tbody>\n",
       "    <tr>\n",
       "      <th rowspan=\"2\" valign=\"top\">not in LF</th>\n",
       "      <th>not city</th>\n",
       "      <td>11.30</td>\n",
       "    </tr>\n",
       "    <tr>\n",
       "      <th>city</th>\n",
       "      <td>12.07</td>\n",
       "    </tr>\n",
       "    <tr>\n",
       "      <th rowspan=\"2\" valign=\"top\">in LF</th>\n",
       "      <th>not city</th>\n",
       "      <td>12.18</td>\n",
       "    </tr>\n",
       "    <tr>\n",
       "      <th>city</th>\n",
       "      <td>12.93</td>\n",
       "    </tr>\n",
       "  </tbody>\n",
       "</table>\n",
       "</div>"
      ],
      "text/plain": [
       "                     educ\n",
       "inlf      city           \n",
       "not in LF not city  11.30\n",
       "          city      12.07\n",
       "in LF     not city  12.18\n",
       "          city      12.93"
      ]
     },
     "execution_count": 39,
     "metadata": {},
     "output_type": "execute_result"
    }
   ],
   "source": [
    "# Create a pivot table to summarize the mean of education by labor force participation and THEN whether someone lives in the city\n",
    "# Round to 2 decimal places\n",
    "pivot2 = labor.pivot_table(values=['educ'],\n",
    "                          index=['inlf','city'],\n",
    "                          aggfunc='mean').round(2)\n",
    "pivot2\n"
   ]
  },
  {
   "cell_type": "markdown",
   "metadata": {},
   "source": [
    "## Table Visualization\n",
    "- Create a heat map to visualize the 1st pivot table you created above to summarize education. Change title, x label, y label, x tick label, and y tick label.\n",
    "- Create another heat map to visualize the 2nd pivot table you created above to summarize education. You do not need to change the labels of this plot. Just observe this plot and see that it is not as effective to visualize the data and add the labels compared to the first one."
   ]
  },
  {
   "cell_type": "code",
   "execution_count": 43,
   "metadata": {},
   "outputs": [
    {
     "data": {
      "text/plain": [
       "[Text(0.5, 1.0, 'Mean Education by Labor Partication and City Residence'),\n",
       " Text(0.5, 15.0, 'City'),\n",
       " [Text(0.5, 0, 'Not in City'), Text(1.5, 0, 'In City')],\n",
       " Text(33.0, 0.5, 'LF Participation'),\n",
       " [Text(0, 0.5, 'Not in LF'), Text(0, 1.5, 'In LF')]]"
      ]
     },
     "execution_count": 43,
     "metadata": {},
     "output_type": "execute_result"
    },
    {
     "data": {
      "image/png": "[encoded data removed]",
      "text/plain": [
       "<Figure size 432x288 with 2 Axes>"
      ]
     },
     "metadata": {
      "needs_background": "light"
     },
     "output_type": "display_data"
    }
   ],
   "source": [
    "# 1st heat map\n",
    "heatmap1 = sns.heatmap(pivot1, annot=True, fmt='g')\n",
    "heatmap1.set(title='Mean Education by Labor Partication and City Residence',\n",
    "            xlabel='City',\n",
    "            xticklabels=['Not in City','In City'],\n",
    "            ylabel='LF Participation',\n",
    "            yticklabels=['Not in LF', 'In LF'])"
   ]
  },
  {
   "cell_type": "code",
   "execution_count": 42,
   "metadata": {},
   "outputs": [
    {
     "data": {
      "text/plain": [
       "[Text(0.5, 1.0, 'Mean Education by Labor Partication and City Residence')]"
      ]
     },
     "execution_count": 42,
     "metadata": {},
     "output_type": "execute_result"
    },
    {
     "data": {
      "image/png": "[encoded data removed]",
      "text/plain": [
       "<Figure size 432x288 with 2 Axes>"
      ]
     },
     "metadata": {
      "needs_background": "light"
     },
     "output_type": "display_data"
    }
   ],
   "source": [
    "# 2nd heat map\n",
    "heatmap2 = sns.heatmap(pivot2, annot=True, fmt='g')\n",
    "heatmap2.set(title='Mean Education by Labor Partication and City Residence')"
   ]
  },
  {
   "cell_type": "code",
   "execution_count": 46,
   "metadata": {},
   "outputs": [
    {
     "name": "stderr",
     "output_type": "stream",
     "text": [
      "[NbConvertApp] Converting notebook Assignment_4.ipynb to html\n",
      "[NbConvertApp] Writing 635181 bytes to Assignment_4.html\n"
     ]
    }
   ],
   "source": [
    "!jupyter nbconvert --to html Assignment_4.ipynb"
   ]
  }
 ],
 "metadata": {
  "hide_input": false,
  "kernelspec": {
   "display_name": "Python 3 (ipykernel)",
   "language": "python",
   "name": "python3"
  },
  "language_info": {
   "codemirror_mode": {
    "name": "ipython",
    "version": 3
   },
   "file_extension": ".py",
   "mimetype": "text/x-python",
   "name": "python",
   "nbconvert_exporter": "python",
   "pygments_lexer": "ipython3",
   "version": "3.9.12"
  }
 },
 "nbformat": 4,
 "nbformat_minor": 4
}
