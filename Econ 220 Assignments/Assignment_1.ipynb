{
 "cells": [
  {
   "cell_type": "markdown",
   "id": "85a3780a",
   "metadata": {},
   "source": [
    "# Assignment 1: Data Import\n",
    "## Author: Jerry Hong"
   ]
  },
  {
   "cell_type": "code",
   "execution_count": 19,
   "id": "a3b1eefc",
   "metadata": {},
   "outputs": [
    {
     "name": "stdout",
     "output_type": "stream",
     "text": [
      "C:\\Users\\jerry\\OneDrive - Emory University\\AtlantaJunior\\Fall 2022\\ECON 220\\Lab\\Homework\n"
     ]
    }
   ],
   "source": [
    "#Import packages\n",
    "import os\n",
    "import pandas as pd\n",
    "\n",
    "#Find working directory\n",
    "path = os.getcwd()\n",
    "print(path)"
   ]
  },
  {
   "cell_type": "markdown",
   "id": "ea6d9ac2",
   "metadata": {},
   "source": [
    "## Loading Data with Python\n",
    "- A cell of code that imports the Spotify data and shows its information. "
   ]
  },
  {
   "cell_type": "code",
   "execution_count": 20,
   "id": "23bf2e31",
   "metadata": {},
   "outputs": [
    {
     "name": "stdout",
     "output_type": "stream",
     "text": [
      "<class 'pandas.core.frame.DataFrame'>\n",
      "RangeIndex: 10 entries, 0 to 9\n",
      "Data columns (total 2 columns):\n",
      " #   Column   Non-Null Count  Dtype  \n",
      "---  ------   --------------  -----  \n",
      " 0   Song     10 non-null     object \n",
      " 1   Million  10 non-null     float64\n",
      "dtypes: float64(1), object(1)\n",
      "memory usage: 288.0+ bytes\n",
      "None\n"
     ]
    }
   ],
   "source": [
    "#Import Spotify data\n",
    "topspotify = pd.read_excel(r\"C:\\Users\\jerry\\OneDrive - Emory University\\AtlantaJunior\\Fall 2022\\ECON 220\\Lab\\Data\\topspotify2021.xlsx\", sheet_name=\"Data\", skiprows=4, usecols=\"B:C\")\n",
    "print(topspotify.info())"
   ]
  },
  {
   "cell_type": "code",
   "execution_count": 21,
   "id": "d4828ec5",
   "metadata": {},
   "outputs": [
    {
     "data": {
      "text/html": [
       "<div>\n",
       "<style scoped>\n",
       "    .dataframe tbody tr th:only-of-type {\n",
       "        vertical-align: middle;\n",
       "    }\n",
       "\n",
       "    .dataframe tbody tr th {\n",
       "        vertical-align: top;\n",
       "    }\n",
       "\n",
       "    .dataframe thead th {\n",
       "        text-align: right;\n",
       "    }\n",
       "</style>\n",
       "<table border=\"1\" class=\"dataframe\">\n",
       "  <thead>\n",
       "    <tr style=\"text-align: right;\">\n",
       "      <th></th>\n",
       "      <th>Song</th>\n",
       "      <th>Million</th>\n",
       "    </tr>\n",
       "  </thead>\n",
       "  <tbody>\n",
       "    <tr>\n",
       "      <th>0</th>\n",
       "      <td>Peaches (feat. Daniel Caesar &amp; Giveon) - Justi...</td>\n",
       "      <td>42.40</td>\n",
       "    </tr>\n",
       "    <tr>\n",
       "      <th>1</th>\n",
       "      <td>drivers license - Olivia Rodrigo</td>\n",
       "      <td>29.33</td>\n",
       "    </tr>\n",
       "    <tr>\n",
       "      <th>2</th>\n",
       "      <td>Astronaut In The Ocean - Masked Wolf</td>\n",
       "      <td>28.31</td>\n",
       "    </tr>\n",
       "    <tr>\n",
       "      <th>3</th>\n",
       "      <td>telepatía - Kali Uchis</td>\n",
       "      <td>28.21</td>\n",
       "    </tr>\n",
       "    <tr>\n",
       "      <th>4</th>\n",
       "      <td>Hold On - Justin Bieber</td>\n",
       "      <td>27.82</td>\n",
       "    </tr>\n",
       "    <tr>\n",
       "      <th>5</th>\n",
       "      <td>Save Your Tears - The Weeknd</td>\n",
       "      <td>26.88</td>\n",
       "    </tr>\n",
       "    <tr>\n",
       "      <th>6</th>\n",
       "      <td>Leave The Door Open - Bruno Mars, Anderson .Pa...</td>\n",
       "      <td>24.08</td>\n",
       "    </tr>\n",
       "    <tr>\n",
       "      <th>7</th>\n",
       "      <td>Blinding Lights - The Weeknd</td>\n",
       "      <td>21.73</td>\n",
       "    </tr>\n",
       "    <tr>\n",
       "      <th>8</th>\n",
       "      <td>As I Am (feat. Khalid) - Justin Bieber</td>\n",
       "      <td>21.82</td>\n",
       "    </tr>\n",
       "    <tr>\n",
       "      <th>9</th>\n",
       "      <td>DÁKITI - Bad Bunny, Jhay Cortez</td>\n",
       "      <td>21.05</td>\n",
       "    </tr>\n",
       "  </tbody>\n",
       "</table>\n",
       "</div>"
      ],
      "text/plain": [
       "                                                Song  Million\n",
       "0  Peaches (feat. Daniel Caesar & Giveon) - Justi...    42.40\n",
       "1                   drivers license - Olivia Rodrigo    29.33\n",
       "2               Astronaut In The Ocean - Masked Wolf    28.31\n",
       "3                             telepatía - Kali Uchis    28.21\n",
       "4                            Hold On - Justin Bieber    27.82\n",
       "5                       Save Your Tears - The Weeknd    26.88\n",
       "6  Leave The Door Open - Bruno Mars, Anderson .Pa...    24.08\n",
       "7                       Blinding Lights - The Weeknd    21.73\n",
       "8             As I Am (feat. Khalid) - Justin Bieber    21.82\n",
       "9                    DÁKITI - Bad Bunny, Jhay Cortez    21.05"
      ]
     },
     "execution_count": 21,
     "metadata": {},
     "output_type": "execute_result"
    }
   ],
   "source": [
    "#Printing the dataframe\n",
    "topspotify"
   ]
  },
  {
   "cell_type": "markdown",
   "id": "c538b84a",
   "metadata": {},
   "source": [
    "### Create a New Variable\n",
    "- A cell of code that creates a new vector/list called \"Like\" that is added as a new variable to your dataframe. The elements of this vector/list tell whether you like each song or not: \"L\" for like, \"D\" for dislike, and \"N\" if you do not know the song."
   ]
  },
  {
   "cell_type": "code",
   "execution_count": 22,
   "id": "1d4bc32c",
   "metadata": {},
   "outputs": [
    {
     "data": {
      "text/html": [
       "<div>\n",
       "<style scoped>\n",
       "    .dataframe tbody tr th:only-of-type {\n",
       "        vertical-align: middle;\n",
       "    }\n",
       "\n",
       "    .dataframe tbody tr th {\n",
       "        vertical-align: top;\n",
       "    }\n",
       "\n",
       "    .dataframe thead th {\n",
       "        text-align: right;\n",
       "    }\n",
       "</style>\n",
       "<table border=\"1\" class=\"dataframe\">\n",
       "  <thead>\n",
       "    <tr style=\"text-align: right;\">\n",
       "      <th></th>\n",
       "      <th>Song</th>\n",
       "      <th>Million</th>\n",
       "      <th>Like</th>\n",
       "    </tr>\n",
       "  </thead>\n",
       "  <tbody>\n",
       "    <tr>\n",
       "      <th>0</th>\n",
       "      <td>Peaches (feat. Daniel Caesar &amp; Giveon) - Justi...</td>\n",
       "      <td>42.40</td>\n",
       "      <td>L</td>\n",
       "    </tr>\n",
       "    <tr>\n",
       "      <th>1</th>\n",
       "      <td>drivers license - Olivia Rodrigo</td>\n",
       "      <td>29.33</td>\n",
       "      <td>D</td>\n",
       "    </tr>\n",
       "    <tr>\n",
       "      <th>2</th>\n",
       "      <td>Astronaut In The Ocean - Masked Wolf</td>\n",
       "      <td>28.31</td>\n",
       "      <td>L</td>\n",
       "    </tr>\n",
       "    <tr>\n",
       "      <th>3</th>\n",
       "      <td>telepatía - Kali Uchis</td>\n",
       "      <td>28.21</td>\n",
       "      <td>N</td>\n",
       "    </tr>\n",
       "    <tr>\n",
       "      <th>4</th>\n",
       "      <td>Hold On - Justin Bieber</td>\n",
       "      <td>27.82</td>\n",
       "      <td>D</td>\n",
       "    </tr>\n",
       "    <tr>\n",
       "      <th>5</th>\n",
       "      <td>Save Your Tears - The Weeknd</td>\n",
       "      <td>26.88</td>\n",
       "      <td>L</td>\n",
       "    </tr>\n",
       "    <tr>\n",
       "      <th>6</th>\n",
       "      <td>Leave The Door Open - Bruno Mars, Anderson .Pa...</td>\n",
       "      <td>24.08</td>\n",
       "      <td>L</td>\n",
       "    </tr>\n",
       "    <tr>\n",
       "      <th>7</th>\n",
       "      <td>Blinding Lights - The Weeknd</td>\n",
       "      <td>21.73</td>\n",
       "      <td>L</td>\n",
       "    </tr>\n",
       "    <tr>\n",
       "      <th>8</th>\n",
       "      <td>As I Am (feat. Khalid) - Justin Bieber</td>\n",
       "      <td>21.82</td>\n",
       "      <td>N</td>\n",
       "    </tr>\n",
       "    <tr>\n",
       "      <th>9</th>\n",
       "      <td>DÁKITI - Bad Bunny, Jhay Cortez</td>\n",
       "      <td>21.05</td>\n",
       "      <td>N</td>\n",
       "    </tr>\n",
       "  </tbody>\n",
       "</table>\n",
       "</div>"
      ],
      "text/plain": [
       "                                                Song  Million Like\n",
       "0  Peaches (feat. Daniel Caesar & Giveon) - Justi...    42.40    L\n",
       "1                   drivers license - Olivia Rodrigo    29.33    D\n",
       "2               Astronaut In The Ocean - Masked Wolf    28.31    L\n",
       "3                             telepatía - Kali Uchis    28.21    N\n",
       "4                            Hold On - Justin Bieber    27.82    D\n",
       "5                       Save Your Tears - The Weeknd    26.88    L\n",
       "6  Leave The Door Open - Bruno Mars, Anderson .Pa...    24.08    L\n",
       "7                       Blinding Lights - The Weeknd    21.73    L\n",
       "8             As I Am (feat. Khalid) - Justin Bieber    21.82    N\n",
       "9                    DÁKITI - Bad Bunny, Jhay Cortez    21.05    N"
      ]
     },
     "execution_count": 22,
     "metadata": {},
     "output_type": "execute_result"
    }
   ],
   "source": [
    "# Appending a Like column to the topspotify dataframe\n",
    "Like = ['L', 'D', 'L', 'N', 'D', 'L', 'L', 'L', 'N', 'N']\n",
    "topspotify['Like'] = Like\n",
    "topspotify"
   ]
  },
  {
   "cell_type": "code",
   "execution_count": 23,
   "id": "b70f2fa2",
   "metadata": {},
   "outputs": [
    {
     "data": {
      "text/html": [
       "<div>\n",
       "<style scoped>\n",
       "    .dataframe tbody tr th:only-of-type {\n",
       "        vertical-align: middle;\n",
       "    }\n",
       "\n",
       "    .dataframe tbody tr th {\n",
       "        vertical-align: top;\n",
       "    }\n",
       "\n",
       "    .dataframe thead th {\n",
       "        text-align: right;\n",
       "    }\n",
       "</style>\n",
       "<table border=\"1\" class=\"dataframe\">\n",
       "  <thead>\n",
       "    <tr style=\"text-align: right;\">\n",
       "      <th></th>\n",
       "      <th>Million</th>\n",
       "      <th>Like</th>\n",
       "    </tr>\n",
       "    <tr>\n",
       "      <th>Song</th>\n",
       "      <th></th>\n",
       "      <th></th>\n",
       "    </tr>\n",
       "  </thead>\n",
       "  <tbody>\n",
       "    <tr>\n",
       "      <th>Peaches (feat. Daniel Caesar &amp; Giveon) - Justin Bieber</th>\n",
       "      <td>42.40</td>\n",
       "      <td>L</td>\n",
       "    </tr>\n",
       "    <tr>\n",
       "      <th>drivers license - Olivia Rodrigo</th>\n",
       "      <td>29.33</td>\n",
       "      <td>D</td>\n",
       "    </tr>\n",
       "    <tr>\n",
       "      <th>Astronaut In The Ocean - Masked Wolf</th>\n",
       "      <td>28.31</td>\n",
       "      <td>L</td>\n",
       "    </tr>\n",
       "    <tr>\n",
       "      <th>telepatía - Kali Uchis</th>\n",
       "      <td>28.21</td>\n",
       "      <td>N</td>\n",
       "    </tr>\n",
       "    <tr>\n",
       "      <th>Hold On - Justin Bieber</th>\n",
       "      <td>27.82</td>\n",
       "      <td>D</td>\n",
       "    </tr>\n",
       "    <tr>\n",
       "      <th>Save Your Tears - The Weeknd</th>\n",
       "      <td>26.88</td>\n",
       "      <td>L</td>\n",
       "    </tr>\n",
       "    <tr>\n",
       "      <th>Leave The Door Open - Bruno Mars, Anderson .Paak, Silk Sonic</th>\n",
       "      <td>24.08</td>\n",
       "      <td>L</td>\n",
       "    </tr>\n",
       "    <tr>\n",
       "      <th>Blinding Lights - The Weeknd</th>\n",
       "      <td>21.73</td>\n",
       "      <td>L</td>\n",
       "    </tr>\n",
       "    <tr>\n",
       "      <th>As I Am (feat. Khalid) - Justin Bieber</th>\n",
       "      <td>21.82</td>\n",
       "      <td>N</td>\n",
       "    </tr>\n",
       "    <tr>\n",
       "      <th>DÁKITI - Bad Bunny, Jhay Cortez</th>\n",
       "      <td>21.05</td>\n",
       "      <td>N</td>\n",
       "    </tr>\n",
       "  </tbody>\n",
       "</table>\n",
       "</div>"
      ],
      "text/plain": [
       "                                                    Million Like\n",
       "Song                                                            \n",
       "Peaches (feat. Daniel Caesar & Giveon) - Justin...    42.40    L\n",
       "drivers license - Olivia Rodrigo                      29.33    D\n",
       "Astronaut In The Ocean - Masked Wolf                  28.31    L\n",
       "telepatía - Kali Uchis                                28.21    N\n",
       "Hold On - Justin Bieber                               27.82    D\n",
       "Save Your Tears - The Weeknd                          26.88    L\n",
       "Leave The Door Open - Bruno Mars, Anderson .Paa...    24.08    L\n",
       "Blinding Lights - The Weeknd                          21.73    L\n",
       "As I Am (feat. Khalid) - Justin Bieber                21.82    N\n",
       "DÁKITI - Bad Bunny, Jhay Cortez                       21.05    N"
      ]
     },
     "execution_count": 23,
     "metadata": {},
     "output_type": "execute_result"
    }
   ],
   "source": [
    "# Setting the index by Song\n",
    "topspotify.set_index('Song')"
   ]
  },
  {
   "cell_type": "code",
   "execution_count": 25,
   "id": "abfcece8",
   "metadata": {},
   "outputs": [
    {
     "name": "stderr",
     "output_type": "stream",
     "text": [
      "[NbConvertApp] Converting notebook Econ220_Assignment1_JerryHong.ipynb to html\n",
      "[NbConvertApp] Writing 589880 bytes to Econ220_Assignment1_JerryHong.html\n"
     ]
    }
   ],
   "source": [
    "# Exporting the notebook as HTML\n",
    "!jupyter nbconvert --to html Econ220_Assignment1_JerryHong.ipynb"
   ]
  },
  {
   "cell_type": "code",
   "execution_count": null,
   "id": "dfb8f819",
   "metadata": {},
   "outputs": [],
   "source": []
  }
 ],
 "metadata": {
  "kernelspec": {
   "display_name": "Python 3 (ipykernel)",
   "language": "python",
   "name": "python3"
  },
  "language_info": {
   "codemirror_mode": {
    "name": "ipython",
    "version": 3
   },
   "file_extension": ".py",
   "mimetype": "text/x-python",
   "name": "python",
   "nbconvert_exporter": "python",
   "pygments_lexer": "ipython3",
   "version": "3.9.12"
  }
 },
 "nbformat": 4,
 "nbformat_minor": 5
}
