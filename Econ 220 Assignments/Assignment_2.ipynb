{
 "cells": [
  {
   "cell_type": "markdown",
   "metadata": {},
   "source": [
    "# Assignment 2: Data Cleaning and Visualization\n",
    "## Author: Jerry Hong"
   ]
  },
  {
   "cell_type": "code",
   "execution_count": 1,
   "metadata": {},
   "outputs": [
    {
     "name": "stdout",
     "output_type": "stream",
     "text": [
      "C:\\Users\\jerry\\OneDrive - Emory University\\AtlantaJunior\\Fall 2022\\ECON 220\\Lab\\Homework\n"
     ]
    }
   ],
   "source": [
    "# Find working directory\n",
    "import os\n",
    "path = os.getcwd()\n",
    "print(path)"
   ]
  },
  {
   "cell_type": "code",
   "execution_count": 3,
   "metadata": {},
   "outputs": [],
   "source": [
    "# Import necessary packages: pandas and seaborn\n",
    "import pandas as pd\n",
    "import seaborn as sns\n",
    "# Remove scientific notations: after seeing baby.describe()\n",
    "pd.options.display.float_format = '{:.4f}'.format\n",
    "# Remove unncessary warnings from Pandas on this particular assignment\n",
    "pd.options.mode.chained_assignment = None  # default='warn'"
   ]
  },
  {
   "cell_type": "markdown",
   "metadata": {},
   "source": [
    "## Import Data Set\n",
    "- Import the data set \"StudentSurvey.csv\" from Canvas and call this object \"data\""
   ]
  },
  {
   "cell_type": "code",
   "execution_count": 4,
   "metadata": {},
   "outputs": [],
   "source": [
    "data = pd.read_csv(r\"C:\\Users\\jerry\\OneDrive - Emory University\\AtlantaJunior\\Fall 2022\\ECON 220\\Lab\\Data\\StudentSurvey.csv\")"
   ]
  },
  {
   "cell_type": "markdown",
   "metadata": {},
   "source": [
    "## Data Cleaning and Summary Statistics \n",
    "- Create a new object **survey** by selecting/filtering the variables that you see below.\n",
    "\n",
    " * age\n",
    " * sex\n",
    " * q29 -> Sleep\n",
    " * q58  -> Expected salary after graduation\n",
    "\n",
    "- Check the information of the data selection to see the types of the variables\n",
    "- Clean the variables \n",
    "- Show the summary statistics of the variables"
   ]
  },
  {
   "cell_type": "code",
   "execution_count": 5,
   "metadata": {},
   "outputs": [
    {
     "name": "stdout",
     "output_type": "stream",
     "text": [
      "<class 'pandas.core.frame.DataFrame'>\n",
      "RangeIndex: 101 entries, 0 to 100\n",
      "Data columns (total 4 columns):\n",
      " #   Column  Non-Null Count  Dtype \n",
      "---  ------  --------------  ----- \n",
      " 0   age     100 non-null    object\n",
      " 1   sex     101 non-null    object\n",
      " 2   q29     100 non-null    object\n",
      " 3   q58     100 non-null    object\n",
      "dtypes: object(4)\n",
      "memory usage: 3.3+ KB\n"
     ]
    }
   ],
   "source": [
    " # Select variables \n",
    "survey = data[['age', 'sex','q29', 'q58']]\n",
    "\n",
    "\n",
    "# Check the info of the data selection \n",
    "survey.info()"
   ]
  },
  {
   "cell_type": "markdown",
   "metadata": {},
   "source": [
    "### Data Cleaning \n",
    "See in the code cell what variables you have to clean. "
   ]
  },
  {
   "cell_type": "code",
   "execution_count": 6,
   "metadata": {},
   "outputs": [
    {
     "data": {
      "text/plain": [
       "20     38\n",
       "19     26\n",
       "21     23\n",
       "18      5\n",
       "22      4\n",
       "23      3\n",
       "24      1\n",
       "NaN     1\n",
       "Name: age, dtype: int64"
      ]
     },
     "execution_count": 6,
     "metadata": {},
     "output_type": "execute_result"
    }
   ],
   "source": [
    "# Clean \"age\"\n",
    "survey['age'] = survey['age'].str.strip()\n",
    "survey['age'] = survey['age'].replace('18  y', '18')\n",
    "survey['age'] = survey['age'].replace('19 years old.', '19')\n",
    "\n",
    "survey['age'].value_counts(dropna=False)"
   ]
  },
  {
   "cell_type": "code",
   "execution_count": 8,
   "metadata": {},
   "outputs": [
    {
     "data": {
      "text/plain": [
       "dtype('float64')"
      ]
     },
     "execution_count": 8,
     "metadata": {},
     "output_type": "execute_result"
    }
   ],
   "source": [
    "# Convert \"age\" from string to float\n",
    "survey['age'] = survey['age'].astype('float')\n",
    "survey['age'].dtypes"
   ]
  },
  {
   "cell_type": "code",
   "execution_count": 9,
   "metadata": {},
   "outputs": [
    {
     "data": {
      "text/plain": [
       "CategoricalDtype(categories=['Female', 'Male'], ordered=False)"
      ]
     },
     "execution_count": 9,
     "metadata": {},
     "output_type": "execute_result"
    }
   ],
   "source": [
    "# Convert \"sex\" into a categorical variable\n",
    "survey['sex'] = survey['sex'].astype('category')\n",
    "survey['sex'].dtypes"
   ]
  },
  {
   "cell_type": "code",
   "execution_count": 11,
   "metadata": {},
   "outputs": [
    {
     "data": {
      "text/plain": [
       "7      40\n",
       "6      24\n",
       "8      21\n",
       "5       5\n",
       "9       4\n",
       "4       1\n",
       "10      1\n",
       "6.5     1\n",
       "7.5     1\n",
       "8.5     1\n",
       "NaN     1\n",
       "Name: q29, dtype: int64"
      ]
     },
     "execution_count": 11,
     "metadata": {},
     "output_type": "execute_result"
    }
   ],
   "source": [
    "# Clean \"q29\" (Sleep) by dropping strange observations\n",
    "# Refer to both the notes and Announcements on Canvas on how to do this\n",
    "strange = survey[survey['q29']== '10-Jun']\n",
    "survey = survey.drop(strange.index)\n",
    "survey['q29'].value_counts(dropna=False)"
   ]
  },
  {
   "cell_type": "code",
   "execution_count": 12,
   "metadata": {},
   "outputs": [
    {
     "data": {
      "text/plain": [
       "dtype('float64')"
      ]
     },
     "execution_count": 12,
     "metadata": {},
     "output_type": "execute_result"
    }
   ],
   "source": [
    "# Convert \"q29\" from string to float\n",
    "survey['q29'] = survey['q29'].astype('float')\n",
    "survey['q29'].dtypes"
   ]
  },
  {
   "cell_type": "code",
   "execution_count": 14,
   "metadata": {},
   "outputs": [
    {
     "data": {
      "text/plain": [
       "50000     15\n",
       "70000     12\n",
       "100000    12\n",
       "75000      9\n",
       "60000      7\n",
       "0          5\n",
       "80000      4\n",
       "20000      4\n",
       "30000      3\n",
       "120000     3\n",
       "90000      3\n",
       "85000      2\n",
       "40000      2\n",
       "10000      2\n",
       "150000     2\n",
       "22000      1\n",
       "18000      1\n",
       "140000     1\n",
       "110000     1\n",
       "NaN        1\n",
       "57000      1\n",
       "56000      1\n",
       "77500      1\n",
       "130000     1\n",
       "77255      1\n",
       "8000       1\n",
       "65000      1\n",
       "7000       1\n",
       "Name: q58, dtype: int64"
      ]
     },
     "execution_count": 14,
     "metadata": {},
     "output_type": "execute_result"
    }
   ],
   "source": [
    "# Clean \"q58\" (Expected Salary)\n",
    "# Hint: remove potential spaces\n",
    "survey['q58'] = survey['q58'].str.strip()\n",
    "# Keep cleaning \"q58\"\n",
    "survey['q58'] = survey['q58'].replace(',', '', regex=True)\n",
    "survey['q58'] = survey['q58'].replace(' ', '', regex=True)\n",
    "strange1 = survey[survey['q58']=='NOIDEA']\n",
    "survey = survey.drop(strange1.index)\n",
    "strange2 = survey[survey['q58']=='-']\n",
    "survey = survey.drop(strange2.index)\n",
    "survey['q58'].value_counts(dropna=False)"
   ]
  },
  {
   "cell_type": "code",
   "execution_count": 15,
   "metadata": {},
   "outputs": [
    {
     "data": {
      "text/plain": [
       "dtype('float64')"
      ]
     },
     "execution_count": 15,
     "metadata": {},
     "output_type": "execute_result"
    }
   ],
   "source": [
    "# Convert \"q58\" from string to float\n",
    "survey['q58']= survey['q58'].astype('float')\n",
    "survey['q58'].dtypes"
   ]
  },
  {
   "cell_type": "markdown",
   "metadata": {},
   "source": [
    "## Adding Variables\n",
    "Create a few new variables using the Pandas package and incorporate them into your dataframe. \n",
    "- \"Goodsleep\" variable to indicate if a person sleeps more than 6 hours\n",
    "- \"Over21\" variable to indicate if a person is 21 or older"
   ]
  },
  {
   "cell_type": "code",
   "execution_count": 16,
   "metadata": {},
   "outputs": [],
   "source": [
    "# Fill in the conditions for the new variables\n",
    "survey[\"Goodsleep\"] = survey['q29'] > 6\n",
    "survey[\"Over21\"] = survey['age'] >= 21"
   ]
  },
  {
   "cell_type": "markdown",
   "metadata": {},
   "source": [
    "## Summary Statistics\n",
    "Provide summary statatistics (mean, standard deviation, min, max, count) for \"age\", \"q29\", \"q58\", \"Goodsleep\", and \"Over21\""
   ]
  },
  {
   "cell_type": "code",
   "execution_count": 17,
   "metadata": {},
   "outputs": [
    {
     "data": {
      "text/html": [
       "<div>\n",
       "<style scoped>\n",
       "    .dataframe tbody tr th:only-of-type {\n",
       "        vertical-align: middle;\n",
       "    }\n",
       "\n",
       "    .dataframe tbody tr th {\n",
       "        vertical-align: top;\n",
       "    }\n",
       "\n",
       "    .dataframe thead th {\n",
       "        text-align: right;\n",
       "    }\n",
       "</style>\n",
       "<table border=\"1\" class=\"dataframe\">\n",
       "  <thead>\n",
       "    <tr style=\"text-align: right;\">\n",
       "      <th></th>\n",
       "      <th>age</th>\n",
       "      <th>q29</th>\n",
       "      <th>q58</th>\n",
       "      <th>Goodsleep</th>\n",
       "      <th>Over21</th>\n",
       "    </tr>\n",
       "  </thead>\n",
       "  <tbody>\n",
       "    <tr>\n",
       "      <th>mean</th>\n",
       "      <td>20.0619</td>\n",
       "      <td>6.9742</td>\n",
       "      <td>65389.2268</td>\n",
       "      <td>0.6939</td>\n",
       "      <td>0.2959</td>\n",
       "    </tr>\n",
       "    <tr>\n",
       "      <th>std</th>\n",
       "      <td>1.1440</td>\n",
       "      <td>1.0241</td>\n",
       "      <td>33809.0132</td>\n",
       "      <td>0.4633</td>\n",
       "      <td>0.4588</td>\n",
       "    </tr>\n",
       "    <tr>\n",
       "      <th>min</th>\n",
       "      <td>18.0000</td>\n",
       "      <td>4.0000</td>\n",
       "      <td>0.0000</td>\n",
       "      <td>False</td>\n",
       "      <td>False</td>\n",
       "    </tr>\n",
       "    <tr>\n",
       "      <th>max</th>\n",
       "      <td>24.0000</td>\n",
       "      <td>10.0000</td>\n",
       "      <td>150000.0000</td>\n",
       "      <td>True</td>\n",
       "      <td>True</td>\n",
       "    </tr>\n",
       "    <tr>\n",
       "      <th>count</th>\n",
       "      <td>97.0000</td>\n",
       "      <td>97.0000</td>\n",
       "      <td>97.0000</td>\n",
       "      <td>98</td>\n",
       "      <td>98</td>\n",
       "    </tr>\n",
       "  </tbody>\n",
       "</table>\n",
       "</div>"
      ],
      "text/plain": [
       "          age     q29         q58 Goodsleep Over21\n",
       "mean  20.0619  6.9742  65389.2268    0.6939 0.2959\n",
       "std    1.1440  1.0241  33809.0132    0.4633 0.4588\n",
       "min   18.0000  4.0000      0.0000     False  False\n",
       "max   24.0000 10.0000 150000.0000      True   True\n",
       "count 97.0000 97.0000     97.0000        98     98"
      ]
     },
     "execution_count": 17,
     "metadata": {},
     "output_type": "execute_result"
    }
   ],
   "source": [
    "# Use the function .agg() to do this\n",
    "# Hint: use 'std' for standard deviation\n",
    "survey[['age','q29', 'q58', 'Goodsleep', 'Over21']].agg(['mean', 'std', 'min','max','count'])\n"
   ]
  },
  {
   "cell_type": "markdown",
   "metadata": {},
   "source": [
    "## Statistics by Group\n",
    "Now let's look at statistics by sex"
   ]
  },
  {
   "cell_type": "code",
   "execution_count": 19,
   "metadata": {},
   "outputs": [
    {
     "data": {
      "text/html": [
       "<div>\n",
       "<style scoped>\n",
       "    .dataframe tbody tr th:only-of-type {\n",
       "        vertical-align: middle;\n",
       "    }\n",
       "\n",
       "    .dataframe tbody tr th {\n",
       "        vertical-align: top;\n",
       "    }\n",
       "\n",
       "    .dataframe thead th {\n",
       "        text-align: right;\n",
       "    }\n",
       "</style>\n",
       "<table border=\"1\" class=\"dataframe\">\n",
       "  <thead>\n",
       "    <tr style=\"text-align: right;\">\n",
       "      <th></th>\n",
       "      <th>q29</th>\n",
       "      <th>q58</th>\n",
       "    </tr>\n",
       "    <tr>\n",
       "      <th>sex</th>\n",
       "      <th></th>\n",
       "      <th></th>\n",
       "    </tr>\n",
       "  </thead>\n",
       "  <tbody>\n",
       "    <tr>\n",
       "      <th>Female</th>\n",
       "      <td>6.8293</td>\n",
       "      <td>58304.8780</td>\n",
       "    </tr>\n",
       "    <tr>\n",
       "      <th>Male</th>\n",
       "      <td>7.0804</td>\n",
       "      <td>70575.9821</td>\n",
       "    </tr>\n",
       "  </tbody>\n",
       "</table>\n",
       "</div>"
      ],
      "text/plain": [
       "          q29        q58\n",
       "sex                     \n",
       "Female 6.8293 58304.8780\n",
       "Male   7.0804 70575.9821"
      ]
     },
     "execution_count": 19,
     "metadata": {},
     "output_type": "execute_result"
    }
   ],
   "source": [
    "# Use the .groupby() and .agg() method to split the sample by sex\n",
    "# and provide the mean for \"q29\" (Sleep) and \"q58\" (Expected Salary)\n",
    "survey.groupby('sex')[['q29', 'q58']].agg('mean')\n"
   ]
  },
  {
   "cell_type": "markdown",
   "metadata": {},
   "source": [
    "# Graph Using Seaborn                \n",
    "- Create a scatter plot of \"age\" on the x-axis and \"q29\" (Sleep) on the y-axis  differentianting by sex. \n",
    "- Add title and labels to your plot"
   ]
  },
  {
   "cell_type": "code",
   "execution_count": 20,
   "metadata": {
    "code_folding": []
   },
   "outputs": [
    {
     "data": {
      "image/png": "[encoded data removed]",
      "text/plain": [
       "<Figure size 432x288 with 1 Axes>"
      ]
     },
     "metadata": {
      "needs_background": "light"
     },
     "output_type": "display_data"
    }
   ],
   "source": [
    "# Graph here\n",
    "scatter = sns.scatterplot(data=survey, x='age', y='q29', hue='sex');\n",
    "scatter.set(title='Age vs Sleep among College Students', xlabel='Age', ylabel='Hours of Sleep');\n"
   ]
  },
  {
   "cell_type": "code",
   "execution_count": 1,
   "metadata": {},
   "outputs": [
    {
     "name": "stderr",
     "output_type": "stream",
     "text": [
      "[NbConvertApp] Converting notebook Assignment_2.ipynb to html\n",
      "[NbConvertApp] Writing 606069 bytes to Assignment_2.html\n"
     ]
    }
   ],
   "source": [
    "!jupyter nbconvert --to html Assignment_2.ipynb"
   ]
  }
 ],
 "metadata": {
  "hide_input": false,
  "kernelspec": {
   "display_name": "Python 3 (ipykernel)",
   "language": "python",
   "name": "python3"
  },
  "language_info": {
   "codemirror_mode": {
    "name": "ipython",
    "version": 3
   },
   "file_extension": ".py",
   "mimetype": "text/x-python",
   "name": "python",
   "nbconvert_exporter": "python",
   "pygments_lexer": "ipython3",
   "version": "3.9.12"
  },
  "toc": {
   "base_numbering": 1,
   "nav_menu": {},
   "number_sections": false,
   "sideBar": true,
   "skip_h1_title": false,
   "title_cell": "Table of Contents",
   "title_sidebar": "Contents",
   "toc_cell": false,
   "toc_position": {},
   "toc_section_display": true,
   "toc_window_display": false
  }
 },
 "nbformat": 4,
 "nbformat_minor": 4
}
