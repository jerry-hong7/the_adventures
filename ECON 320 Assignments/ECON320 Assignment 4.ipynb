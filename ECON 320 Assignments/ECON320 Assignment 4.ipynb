{
 "cells": [
  {
   "attachments": {},
   "cell_type": "markdown",
   "metadata": {},
   "source": [
    "    \n",
    "<h1 style=\"text-align: center; color: purple;\" markdown=\"1\">Econ 320: Python Assignment 4\n",
    "</h1>\n",
    "\n",
    "<h2 style=\"text-align: center; color: #012169\" markdown=\"1\">Wooldridge C4.11 (Modified) </h2>\n",
    "\n"
   ]
  },
  {
   "attachments": {},
   "cell_type": "markdown",
   "metadata": {},
   "source": [
    "## Jerry Hong"
   ]
  },
  {
   "cell_type": "markdown",
   "metadata": {},
   "source": [
    "## Package setup"
   ]
  },
  {
   "cell_type": "code",
   "execution_count": 1,
   "metadata": {},
   "outputs": [],
   "source": [
    "# import necessary packages\n",
    "import wooldridge as woo\n",
    "import numpy as np \n",
    "import pandas as pd\n",
    "import matplotlib as plt\n",
    "import seaborn as sns\n",
    "import scipy.stats as stats\n",
    "import statsmodels.api  as sm\n",
    "import statsmodels.formula.api as smf\n",
    "import statsmodels.stats.api as sms # BP test\n",
    "from stargazer.stargazer import Stargazer\n",
    "from IPython.core.display import HTML"
   ]
  },
  {
   "cell_type": "markdown",
   "metadata": {},
   "source": [
    "Use the data in HTV form wooldridge to answer this question. \n",
    "\n",
    "## 1. Estimate the regression model\n",
    "\n",
    "$$ educ = \\beta_0 + \\beta_1 *motheduc + \\beta_2 *fatheduc + \\beta_3 *abil + \\beta_4 *abil^2 + u$$\n",
    "by OLS take a look at the results in the usual form but report the results using stargazer. \n",
    "\n",
    "## 2. Inference \n",
    "\n",
    "* 2.a Test the null hypothesis that educ is linearly related to abil against the alternative that the relationship is quadratic. Show the tstat and the pvalue associated with that test. Do you reject the null hypothesis? what does that mean? EXPLAIN (*Hint*: no need to run an extra test from the regression results you can answer this question, see the results for abil and $abil^2$) \n",
    "\n",
    "* 2.b Test the following hypothesis\n",
    "\n",
    "$$ H_0: \\beta_{motheduc}=0.3$$\n",
    "$$ H_1:\\beta_{motheduc}<0.3$$\n",
    "\n",
    "This is a one tail test. \n",
    "**EXPLAIN your result**\n",
    "\n",
    "* 2.c Test the following hypothesis\n",
    "\n",
    "$$ H_0: \\beta_{motheduc}=0.09$$\n",
    "$$ H_1:\\beta_{motheduc}>0.09$$\n",
    "\n",
    "This is a one tail test. \n",
    "**EXPLAIN your result** "
   ]
  },
  {
   "cell_type": "code",
   "execution_count": 2,
   "metadata": {},
   "outputs": [
    {
     "data": {
      "text/html": [
       "<table style=\"text-align:center\"><tr><td colspan=\"2\" style=\"border-bottom: 1px solid black\"></td></tr><tr><td style=\"text-align:left\"></td><td colspan=\"1\"><em>Dependent variable:educ</em></td></tr><tr><td style=\"text-align:left\"></td><tr><td style=\"text-align:left\"></td><td>(1)</td></tr><tr><td colspan=\"2\" style=\"border-bottom: 1px solid black\"></td></tr><tr><td style=\"text-align:left\">Intercept</td><td>8.240<sup>***</sup></td></tr><tr><td style=\"text-align:left\"></td><td>(0.287)</td></tr><tr><td style=\"text-align:left\">motheduc</td><td>0.190<sup>***</sup></td></tr><tr><td style=\"text-align:left\"></td><td>(0.028)</td></tr><tr><td style=\"text-align:left\">fatheduc</td><td>0.109<sup>***</sup></td></tr><tr><td style=\"text-align:left\"></td><td>(0.020)</td></tr><tr><td style=\"text-align:left\">abil</td><td>0.401<sup>***</sup></td></tr><tr><td style=\"text-align:left\"></td><td>(0.030)</td></tr><tr><td style=\"text-align:left\">abil2</td><td>0.051<sup>***</sup></td></tr><tr><td style=\"text-align:left\"></td><td>(0.008)</td></tr><td colspan=\"2\" style=\"border-bottom: 1px solid black\"></td></tr><tr><td style=\"text-align: left\">Observations</td><td>1,230</td></tr><tr><td style=\"text-align: left\">R<sup>2</sup></td><td>0.444</td></tr><tr><td style=\"text-align: left\">Adjusted R<sup>2</sup></td><td>0.443</td></tr><tr><td style=\"text-align: left\">Residual Std. Error</td><td>1.758 (df=1225)</td></tr><tr><td style=\"text-align: left\">F Statistic</td><td>244.906<sup>***</sup> (df=4; 1225)</td></tr><tr><td colspan=\"2\" style=\"border-bottom: 1px solid black\"></td></tr><tr><td style=\"text-align: left\">Note:</td>\n",
       " <td colspan=\"1\" style=\"text-align: right\">\n",
       "  <sup>*</sup>p&lt;0.1;\n",
       "  <sup>**</sup>p&lt;0.05;\n",
       "  <sup>***</sup>p&lt;0.01\n",
       " </td></tr></table>"
      ],
      "text/plain": [
       "<IPython.core.display.HTML object>"
      ]
     },
     "execution_count": 2,
     "metadata": {},
     "output_type": "execute_result"
    }
   ],
   "source": [
    "# to include the term ability squared you can create a separate variable \n",
    "# or even easier use the I(function) in the ols command to add the term \n",
    "\n",
    "htv = woo.dataWoo('htv')\n",
    "res = smf.ols(formula='educ ~ motheduc + fatheduc + abil + I(abil ** 2)', data=htv).fit()\n",
    "res.summary()\n",
    "st=Stargazer([res])\n",
    "st.rename_covariates({\"I(abil ** 2)\": \"abil2\"})\n",
    "st.covariate_order(['Intercept', 'motheduc', 'fatheduc', 'abil', 'I(abil ** 2)'])\n",
    "HTML(st.render_html())"
   ]
  },
  {
   "attachments": {},
   "cell_type": "markdown",
   "metadata": {},
   "source": [
    "### Observations\n",
    "\n",
    "The r-sqaured value is 0.444, so the fit is somewhat decent. The p-value for any confidence interval is less than its value, so we reject the null hypothesis suggesting the coefficient for mother education is greater than 0.3."
   ]
  },
  {
   "cell_type": "code",
   "execution_count": 6,
   "metadata": {},
   "outputs": [
    {
     "name": "stdout",
     "output_type": "stream",
     "text": [
      "T-test for linear vs quadratic relation on ability\n",
      "tstat: \n",
      "6.093400049308947\n",
      "\n",
      "pval: \n",
      "0.0\n",
      "\n",
      "T-test for mother educ < 0.3\n",
      "tstat: \n",
      "-10.487663076513327\n",
      "\n",
      "pval: \n",
      "0.0\n",
      "\n"
     ]
    }
   ],
   "source": [
    "# manually confirm the formulas, i.e. extract coefficients and SE:\n",
    "b = res.params\n",
    "se = res.bse\n",
    "\n",
    "print(\"T-test for linear vs quadratic relation on ability\")\n",
    "# reproduce t statistic:\n",
    "tstat = b[4]/se[4]\n",
    "\n",
    "print(f'tstat: \\n{tstat}\\n')\n",
    "\n",
    "# reproduce p value:\n",
    "pval = 2 * stats.t.cdf(-abs(tstat), 1225)\n",
    "\n",
    "# use the np.around() function to round array \n",
    "print(f'pval: \\n{np.around(pval,4)}\\n')\n",
    "\n",
    "print(\"T-test for mother educ < 0.3\")\n",
    "# reproduce t statistic:\n",
    "tstat1 = b[1] - 0.3/se[1]\n",
    "\n",
    "print(f'tstat: \\n{tstat1}\\n')\n",
    "\n",
    "# reproduce p value:\n",
    "pval1 = 2 * stats.t.cdf(-abs(tstat1), 1225)\n",
    "\n",
    "# use the np.around() function to round array \n",
    "print(f'pval: \\n{np.around(pval1, 4)}\\n')\n"
   ]
  },
  {
   "cell_type": "markdown",
   "metadata": {},
   "source": [
    "<br>\n",
    "\n",
    "## 3.  Using the equation in part (2), test $H_0: \\beta_1=\\beta_2$ against a two-sided alternative. What is the p-value of the test? \n",
    "\n",
    "Remember this requires for creating a new regression with a $\\theta_1=\\beta_1-\\beta_2$ as shown in your book and then test for $H_0: \\theta_1=0$\n",
    "\n",
    " Let's change the regression to create $\\theta_1=\\beta_1-\\beta_2$ \n",
    "\n",
    "Add and subrstact $\\beta_2 motheduc$ and create a variable $parentedu=motheduc+fatheduc$ see below: \n",
    "\n",
    "$$ educ = \\beta_0 + \\beta_1 motheduc - \\beta_2 motheduc + \\beta_2 motheduc+ \\beta_2 fatheduc + \\beta_3 abil + \\beta_4 abil^2 + u$$\n",
    "\n",
    "$$ educ = \\beta_0 + (\\beta_1 - \\beta_2)   motheduc + \\beta_2  (motheduc+fatheduc) + \\beta_3 abil + \\beta_4 abil^2 + u$$\n",
    "$$ educ = \\beta_0 + \\theta_1   motheduc + \\beta_2  (parentedu) + \\beta_3 abil + \\beta_4 abil^2 + u$$\n",
    "\n",
    "By testing the null hypothesis that $H_0:\\theta_1=0$ with $alpha=0.05$ we are testing $H_0: \\beta_1=\\beta_2$ So we just run the regression that has $\\theta_1$ as a regressor and look at the t-test for $\\theta_1$"
   ]
  },
  {
   "cell_type": "code",
   "execution_count": 13,
   "metadata": {},
   "outputs": [
    {
     "name": "stdout",
     "output_type": "stream",
     "text": [
      "critical values for alpha 5% and 1% 2 tails\n",
      "cv_t: 1.961902414756263\n",
      "\n",
      "cv_n: -1.6448536269514729\n",
      "\n"
     ]
    },
    {
     "data": {
      "text/html": [
       "<table style=\"text-align:center\"><tr><td colspan=\"2\" style=\"border-bottom: 1px solid black\"></td></tr><tr><td style=\"text-align:left\"></td><td colspan=\"1\"><em>Dependent variable:educ</em></td></tr><tr><td style=\"text-align:left\"></td><tr><td style=\"text-align:left\"></td><td>(1)</td></tr><tr><td colspan=\"2\" style=\"border-bottom: 1px solid black\"></td></tr><tr><td style=\"text-align:left\">motheduc</td><td>0.081<sup>*</sup></td></tr><tr><td style=\"text-align:left\"></td><td>(0.042)</td></tr><tr><td style=\"text-align:left\">parenteduc</td><td>0.109<sup>***</sup></td></tr><tr><td style=\"text-align:left\"></td><td>(0.020)</td></tr><tr><td style=\"text-align:left\">abil</td><td>0.401<sup>***</sup></td></tr><tr><td style=\"text-align:left\"></td><td>(0.030)</td></tr><tr><td style=\"text-align:left\">abil2</td><td>0.051<sup>***</sup></td></tr><tr><td style=\"text-align:left\"></td><td>(0.008)</td></tr><tr><td style=\"text-align:left\">Intercept</td><td>8.240<sup>***</sup></td></tr><tr><td style=\"text-align:left\"></td><td>(0.287)</td></tr><td colspan=\"2\" style=\"border-bottom: 1px solid black\"></td></tr><tr><td style=\"text-align: left\">Observations</td><td>1,230</td></tr><tr><td style=\"text-align: left\">R<sup>2</sup></td><td>0.444</td></tr><tr><td style=\"text-align: left\">Adjusted R<sup>2</sup></td><td>0.443</td></tr><tr><td style=\"text-align: left\">Residual Std. Error</td><td>1.758 (df=1225)</td></tr><tr><td style=\"text-align: left\">F Statistic</td><td>244.906<sup>***</sup> (df=4; 1225)</td></tr><tr><td colspan=\"2\" style=\"border-bottom: 1px solid black\"></td></tr><tr><td style=\"text-align: left\">Note:</td>\n",
       " <td colspan=\"1\" style=\"text-align: right\">\n",
       "  <sup>*</sup>p&lt;0.1;\n",
       "  <sup>**</sup>p&lt;0.05;\n",
       "  <sup>***</sup>p&lt;0.01\n",
       " </td></tr></table>"
      ],
      "text/plain": [
       "<IPython.core.display.HTML object>"
      ]
     },
     "execution_count": 13,
     "metadata": {},
     "output_type": "execute_result"
    }
   ],
   "source": [
    "#critival Values for alpha=5% and 1%\n",
    "print(\"critical values for alpha 5% and 1% 2 tails\")\n",
    "cv_t = stats.t.ppf(1-0.05/2, 1225)\n",
    "\n",
    "print(f'cv_t: {cv_t}\\n')\n",
    "\n",
    "# CV for alpha=5% and 1% using the normal approximation:\n",
    "cv_n = stats.norm.ppf(0.05)\n",
    "\n",
    "print(f'cv_n: {cv_n}\\n')\n",
    "\n",
    "#qt(1-alpha_2, 1225)\n",
    "\n",
    "# create parenteduc\n",
    "htv['parenteduc'] = htv['motheduc'] + htv['fatheduc']\n",
    "# regression with theta1\n",
    "res1 = smf.ols(formula = 'educ ~ motheduc + parenteduc + abil + I(abil **2)', data = htv).fit()\n",
    "\n",
    "st=Stargazer([res1])\n",
    "st.rename_covariates({\"I(abil ** 2)\": \"abil2\"})\n",
    "st.covariate_order(['motheduc' , 'parenteduc' , 'abil', 'I(abil ** 2)', 'Intercept'])\n",
    "HTML(st.render_html())\n"
   ]
  },
  {
   "attachments": {},
   "cell_type": "markdown",
   "metadata": {},
   "source": [
    "\n",
    "*** \n",
    "#### Complete the empty spaces\n",
    "\n",
    "The value of $\\theta_1$ is equal to -0.028 with a t-stat of 244.906 and a p-value of 0.003 this means that we reject the null hypothesis that  $H_0:\\theta_1=0$ which means that $\\beta_1$ does not $\\beta_2$ therefore the level of education of mother's and father's education has high magnitute. (this might be completely wrong, but this is my best approximation)"
   ]
  },
  {
   "cell_type": "markdown",
   "metadata": {},
   "source": [
    "***\n",
    "<br>\n",
    "\n",
    "## 4. \tAdd the two college tuition variables to the regression from part (2) and determine whether they are jointly statistically significant. \n",
    "First, do the F-test step-by-step"
   ]
  },
  {
   "cell_type": "code",
   "execution_count": 14,
   "metadata": {},
   "outputs": [
    {
     "name": "stdout",
     "output_type": "stream",
     "text": [
      "r2_ur: 0.44511171101427116\n",
      "\n",
      "r2_r: 0.4443500858908753\n",
      "\n",
      "fstat: 0.5600101074641594\n",
      "\n",
      "cv: 3.7975666835811324\n",
      "\n"
     ]
    }
   ],
   "source": [
    "## F test step by step\n",
    "n = htv.shape[0]\n",
    "# Unrestricted OLS regression:  \n",
    "reg_ur= smf.ols(formula = 'educ ~ motheduc + parenteduc + abil + I(abil **2)+ tuit17 + tuit18', data = htv)\n",
    "fit_ur= reg_ur.fit()\n",
    "r2_ur= fit_ur.rsquared\n",
    "\n",
    "print(f'r2_ur: {r2_ur}\\n')\n",
    "\n",
    "# Restricted OLS regression:\n",
    "reg_r= smf.ols(formula = 'educ ~ motheduc + parenteduc + abil + I(abil **2)', data = htv)\n",
    "fit_r= reg_r.fit()\n",
    "r2_r= fit_r.rsquared\n",
    "\n",
    "\n",
    "print(f'r2_r: {r2_r}\\n')\n",
    "\n",
    "# F statistic:\n",
    "fstat = (r2_ur - r2_r)/(1-r2_ur)* (n-6)/ 3\n",
    "\n",
    "print(f'fstat: {fstat}\\n')\n",
    "\n",
    "# CV for alpha=1% using the F distribution with 3 and 1223 d.f. :\n",
    "cv = stats.f.ppf(1-0.01, 3, 1230)\n",
    "\n",
    "print(f'cv: {cv}\\n')\n"
   ]
  },
  {
   "cell_type": "markdown",
   "metadata": {},
   "source": [
    "\n",
    "#### Then use any of the other methods\n"
   ]
  },
  {
   "cell_type": "code",
   "execution_count": 15,
   "metadata": {},
   "outputs": [
    {
     "data": {
      "text/plain": [
       "(0.8393288742998524, 0.4322490378049605, 2.0)"
      ]
     },
     "execution_count": 15,
     "metadata": {},
     "output_type": "execute_result"
    }
   ],
   "source": [
    "# F test using compare_f_test\n",
    "fit_ur.compare_f_test(fit_r)\n",
    "\n"
   ]
  },
  {
   "attachments": {},
   "cell_type": "markdown",
   "metadata": {},
   "source": [
    "<br> \n",
    "This shows that in this case we fail to reject the null hypothesis**, that the coefficients are jointly zero. "
   ]
  },
  {
   "cell_type": "markdown",
   "metadata": {},
   "source": [
    "## 5.  Use function `.conf_int()` to find the confidence intervals of all the parameters in the unsrestricted model from (4) What do you conclude? EXPLAIN this results in the light of the significance of your coeficients"
   ]
  },
  {
   "cell_type": "code",
   "execution_count": 16,
   "metadata": {},
   "outputs": [
    {
     "data": {
      "text/html": [
       "<div>\n",
       "<style scoped>\n",
       "    .dataframe tbody tr th:only-of-type {\n",
       "        vertical-align: middle;\n",
       "    }\n",
       "\n",
       "    .dataframe tbody tr th {\n",
       "        vertical-align: top;\n",
       "    }\n",
       "\n",
       "    .dataframe thead th {\n",
       "        text-align: right;\n",
       "    }\n",
       "</style>\n",
       "<table border=\"1\" class=\"dataframe\">\n",
       "  <thead>\n",
       "    <tr style=\"text-align: right;\">\n",
       "      <th></th>\n",
       "      <th>0</th>\n",
       "      <th>1</th>\n",
       "    </tr>\n",
       "  </thead>\n",
       "  <tbody>\n",
       "    <tr>\n",
       "      <th>Intercept</th>\n",
       "      <td>7.468242</td>\n",
       "      <td>8.695487</td>\n",
       "    </tr>\n",
       "    <tr>\n",
       "      <th>motheduc</th>\n",
       "      <td>0.001994</td>\n",
       "      <td>0.166906</td>\n",
       "    </tr>\n",
       "    <tr>\n",
       "      <th>parenteduc</th>\n",
       "      <td>0.069954</td>\n",
       "      <td>0.146931</td>\n",
       "    </tr>\n",
       "    <tr>\n",
       "      <th>abil</th>\n",
       "      <td>0.339500</td>\n",
       "      <td>0.458585</td>\n",
       "    </tr>\n",
       "    <tr>\n",
       "      <th>I(abil ** 2)</th>\n",
       "      <td>0.034246</td>\n",
       "      <td>0.066863</td>\n",
       "    </tr>\n",
       "    <tr>\n",
       "      <th>tuit17</th>\n",
       "      <td>-0.106866</td>\n",
       "      <td>0.138384</td>\n",
       "    </tr>\n",
       "    <tr>\n",
       "      <th>tuit18</th>\n",
       "      <td>-0.124810</td>\n",
       "      <td>0.124931</td>\n",
       "    </tr>\n",
       "  </tbody>\n",
       "</table>\n",
       "</div>"
      ],
      "text/plain": [
       "                     0         1\n",
       "Intercept     7.468242  8.695487\n",
       "motheduc      0.001994  0.166906\n",
       "parenteduc    0.069954  0.146931\n",
       "abil          0.339500  0.458585\n",
       "I(abil ** 2)  0.034246  0.066863\n",
       "tuit17       -0.106866  0.138384\n",
       "tuit18       -0.124810  0.124931"
      ]
     },
     "execution_count": 16,
     "metadata": {},
     "output_type": "execute_result"
    }
   ],
   "source": [
    "# find confidence intervals\n",
    "fit_ur.conf_int(alpha=0.05)\n",
    "\n"
   ]
  },
  {
   "attachments": {},
   "cell_type": "markdown",
   "metadata": {},
   "source": [
    "The confidence intervals of these parameters show that the unrestricted model has high variation given we are adding more variables to the model."
   ]
  },
  {
   "cell_type": "code",
   "execution_count": null,
   "metadata": {},
   "outputs": [],
   "source": []
  },
  {
   "cell_type": "markdown",
   "metadata": {},
   "source": [
    "&nbsp;\n",
    "<hr />\n",
    "<p style=\"font-family:palatino; text-align: center;font-size: 15px\">ECON220 Python Programming Laboratory</a></p>\n",
    "<p style=\"font-family:palatino; text-align: center;font-size: 15px\">Professor <em> Paloma Lopez de mesa Moyano</em></a></p>\n",
    "<p style=\"font-family:palatino; text-align: center;font-size: 15px\"><span style=\"color: #6666FF;\"><em>paloma.moyano@emory.edu</em></span></p>\n",
    "\n",
    "<p style=\"font-family:palatino; text-align: center;font-size: 15px\">Department of Economics</a></p>\n",
    "<p style=\"font-family:palatino; text-align: center; color: #012169;font-size: 15px\">Emory University</a></p>\n",
    "\n",
    "&nbsp;"
   ]
  }
 ],
 "metadata": {
  "kernelspec": {
   "display_name": "Python 3 (ipykernel)",
   "language": "python",
   "name": "python3"
  },
  "language_info": {
   "codemirror_mode": {
    "name": "ipython",
    "version": 3
   },
   "file_extension": ".py",
   "mimetype": "text/x-python",
   "name": "python",
   "nbconvert_exporter": "python",
   "pygments_lexer": "ipython3",
   "version": "3.9.7"
  },
  "varInspector": {
   "cols": {
    "lenName": 16,
    "lenType": 16,
    "lenVar": 40
   },
   "kernels_config": {
    "python": {
     "delete_cmd_postfix": "",
     "delete_cmd_prefix": "del ",
     "library": "var_list.py",
     "varRefreshCmd": "print(var_dic_list())"
    },
    "r": {
     "delete_cmd_postfix": ") ",
     "delete_cmd_prefix": "rm(",
     "library": "var_list.r",
     "varRefreshCmd": "cat(var_dic_list()) "
    }
   },
   "types_to_exclude": [
    "module",
    "function",
    "builtin_function_or_method",
    "instance",
    "_Feature"
   ],
   "window_display": false
  }
 },
 "nbformat": 4,
 "nbformat_minor": 4
}
