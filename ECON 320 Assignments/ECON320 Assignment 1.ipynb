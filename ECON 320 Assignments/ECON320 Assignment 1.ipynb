{
 "cells": [
  {
   "attachments": {},
   "cell_type": "markdown",
   "metadata": {},
   "source": [
    "\n",
    "# Wooldridge Chapter 1 exercises\n",
    "\n",
    "## Jerry Hong \n",
    "\n",
    "## C1 \n",
    "\n",
    "* wage1.info() run this to see the variables you have or check the description on the web\n",
    "* Find the average education level in the sample. What are the lowest and highest years of education?\n",
    "* Find the average hourly wage in the sample. \n",
    "* \tHow many women are in the sample? How many men?"
   ]
  },
  {
   "cell_type": "code",
   "execution_count": 2,
   "metadata": {},
   "outputs": [],
   "source": [
    "# import necessary packages\n",
    "import wooldridge as woo\n",
    "import numpy as np\n",
    "import pandas as pd"
   ]
  },
  {
   "cell_type": "code",
   "execution_count": 5,
   "metadata": {},
   "outputs": [
    {
     "name": "stdout",
     "output_type": "stream",
     "text": [
      "<class 'pandas.core.frame.DataFrame'>\n",
      "RangeIndex: 526 entries, 0 to 525\n",
      "Data columns (total 24 columns):\n",
      " #   Column    Non-Null Count  Dtype  \n",
      "---  ------    --------------  -----  \n",
      " 0   wage      526 non-null    float64\n",
      " 1   educ      526 non-null    int64  \n",
      " 2   exper     526 non-null    int64  \n",
      " 3   tenure    526 non-null    int64  \n",
      " 4   nonwhite  526 non-null    int64  \n",
      " 5   female    526 non-null    int64  \n",
      " 6   married   526 non-null    int64  \n",
      " 7   numdep    526 non-null    int64  \n",
      " 8   smsa      526 non-null    int64  \n",
      " 9   northcen  526 non-null    int64  \n",
      " 10  south     526 non-null    int64  \n",
      " 11  west      526 non-null    int64  \n",
      " 12  construc  526 non-null    int64  \n",
      " 13  ndurman   526 non-null    int64  \n",
      " 14  trcommpu  526 non-null    int64  \n",
      " 15  trade     526 non-null    int64  \n",
      " 16  services  526 non-null    int64  \n",
      " 17  profserv  526 non-null    int64  \n",
      " 18  profocc   526 non-null    int64  \n",
      " 19  clerocc   526 non-null    int64  \n",
      " 20  servocc   526 non-null    int64  \n",
      " 21  lwage     526 non-null    float64\n",
      " 22  expersq   526 non-null    int64  \n",
      " 23  tenursq   526 non-null    int64  \n",
      "dtypes: float64(2), int64(22)\n",
      "memory usage: 98.8 KB\n"
     ]
    }
   ],
   "source": [
    "# finding the values \n",
    "wage1 = woo.dataWoo('wage1')\n",
    "wage1.info()"
   ]
  },
  {
   "cell_type": "code",
   "execution_count": 37,
   "metadata": {},
   "outputs": [
    {
     "name": "stdout",
     "output_type": "stream",
     "text": [
      "Educ Stats \n",
      "count    526.000000\n",
      "mean      12.562738\n",
      "std        2.769022\n",
      "min        0.000000\n",
      "25%       12.000000\n",
      "50%       12.000000\n",
      "75%       14.000000\n",
      "max       18.000000\n",
      "Name: educ, dtype: float64\n",
      "\n",
      "              Values\n",
      "Stats               \n",
      "Average wage     5.9\n",
      "female         252.0\n",
      "male           274.0\n",
      "\n",
      "Average wage in 2013; 24.143970531201788\n",
      "\n",
      "Mean education level; 12.562737642585551\n",
      "Lowest years of education; 0\n",
      "Highest years of education; 18\n"
     ]
    }
   ],
   "source": [
    "# setup \n",
    "wage1 = woo.dataWoo('wage1')\n",
    "\n",
    "\n",
    "eductable = wage1['educ'].describe()\n",
    "avewage = np.mean(wage1.wage)\n",
    "femalecount = wage1['female'].value_counts()[1]\n",
    "malecount =  wage1['female'].value_counts()[0]\n",
    "meaneduc = wage1['educ'].mean()\n",
    "minyears = wage1['educ'].min()\n",
    "maxyears = wage1['educ'].max()\n",
    "\n",
    "stats_new = {\n",
    "    'Values': [avewage, femalecount, malecount],\n",
    "    'Stats': ['Average wage', 'female', 'male']\n",
    "}\n",
    "\n",
    "stats_table = pd.DataFrame(stats_new).set_index('Stats')\n",
    "\n",
    "print(f'Educ Stats \\n{eductable}\\n')\n",
    "\n",
    "print(round(stats_table,2))\n",
    "\n",
    "#stats = pd.DataFrame()\n",
    "\n",
    "# CPI-1982 100 # CPI-1976 = 56.9 & CPI_2013= 233.0\n",
    "CPIratio76_13 = 233/56.9\n",
    "wage13 = wage1['wage']*CPIratio76_13\n",
    "avewage13 = np.mean(wage13)\n",
    "\n",
    "print(f'\\nAverage wage in 2013; {avewage13}\\n')\n",
    "print(f'Mean education level; {meaneduc}')\n",
    "print(f'Lowest years of education; {minyears}')\n",
    "print(f'Highest years of education; {maxyears}')\n"
   ]
  },
  {
   "attachments": {},
   "cell_type": "markdown",
   "metadata": {},
   "source": [
    "## C3 Computer exercise three\n",
    "\n",
    "The data in MEAP01 are for the state of Michigan in the year 2001. Use these data to answer the following questions.\n",
    "\n",
    "(i). Find the largest and smallest values of math4. Does the range make sense? Explain.\n",
    "\n",
    "(ii). How many schools have a perfect pass rate on the math test? What percentage is this of the total sample?\n",
    "\n",
    "(iii). How many schools have math pass rates of exactly 50%?\n",
    "\n",
    "(iv). Compare the average pass rates for the math and reading scores. Which test is harder to pass?\n",
    "\n",
    "(v). Find the correlation between math4 and read4. What do you conclude?\n",
    "\n",
    "(vi). The variable exppp is expenditure per pupil. Find the average of exppp along with its standard deviation. Would you say there is wide variation in per pupil spending?"
   ]
  },
  {
   "cell_type": "code",
   "execution_count": 38,
   "metadata": {},
   "outputs": [
    {
     "name": "stdout",
     "output_type": "stream",
     "text": [
      "<class 'pandas.core.frame.DataFrame'>\n",
      "RangeIndex: 1823 entries, 0 to 1822\n",
      "Data columns (total 11 columns):\n",
      " #   Column   Non-Null Count  Dtype  \n",
      "---  ------   --------------  -----  \n",
      " 0   dcode    1823 non-null   float64\n",
      " 1   bcode    1823 non-null   int64  \n",
      " 2   math4    1823 non-null   float64\n",
      " 3   read4    1823 non-null   float64\n",
      " 4   lunch    1823 non-null   float64\n",
      " 5   enroll   1823 non-null   int64  \n",
      " 6   expend   1823 non-null   float64\n",
      " 7   exppp    1823 non-null   float64\n",
      " 8   lenroll  1823 non-null   float64\n",
      " 9   lexpend  1823 non-null   float64\n",
      " 10  lexppp   1823 non-null   float64\n",
      "dtypes: float64(9), int64(2)\n",
      "memory usage: 156.8 KB\n"
     ]
    }
   ],
   "source": [
    "# Load dataset meap01\n",
    "\n",
    "meap01 = woo.dataWoo('meap01')\n",
    "meap01.info()"
   ]
  },
  {
   "cell_type": "code",
   "execution_count": 47,
   "metadata": {},
   "outputs": [
    {
     "name": "stdout",
     "output_type": "stream",
     "text": [
      "          dcode    bcode    math4    read4    lunch   enroll      expend  \\\n",
      "count   1823.00  1823.00  1823.00  1823.00  1823.00  1823.00     1823.00   \n",
      "mean   53028.27  3394.56    71.91    60.06    39.25   401.94  2036983.94   \n",
      "std    23907.06  2442.93    19.95    19.15    26.42   169.83   864936.06   \n",
      "min     1010.00     1.00     0.00     0.00     0.00    62.00   275985.00   \n",
      "25%    33901.50  1385.50    61.60    48.90    16.61   287.00  1474465.00   \n",
      "50%    55100.00  2794.00    76.40    62.70    35.10   379.00  1894043.00   \n",
      "75%    77010.00  5084.50    87.00    73.90    59.07   484.00  2407636.50   \n",
      "max    83070.00  8838.00   100.00   100.00   100.00  1496.00  7665998.00   \n",
      "\n",
      "          exppp  lenroll  lexpend   lexppp  \n",
      "count   1823.00  1823.00  1823.00  1823.00  \n",
      "mean    5194.87     5.91    14.44     8.53  \n",
      "std     1091.89     0.42     0.41     0.21  \n",
      "min     1206.88     4.13    12.53     7.10  \n",
      "25%     4501.54     5.66    14.20     8.41  \n",
      "50%     5078.25     5.94    14.45     8.53  \n",
      "75%     5767.14     6.18    14.69     8.66  \n",
      "max    11957.64     7.31    15.85     9.39  \n",
      "0.84\n",
      "Schools with perfect passing rate (math4); 38\n",
      "Schools with 50% passing rate (math4); 17\n",
      "Proprotion of schools with perfect passing rate (math4); 0.020844761382336808\n"
     ]
    }
   ],
   "source": [
    "# calculate the values\n",
    "tablestats = meap01.describe()\n",
    "\n",
    "meap01[['math4', 'read4', 'exppp']].describe()\n",
    "\n",
    "\n",
    "print(round(tablestats,2))\n",
    "perfmath4 = meap01[meap01['math4']==100]['math4'].count()\n",
    "midmath4 = meap01[meap01['math4']==50]['math4'].count()\n",
    "perfpropmath4 = perfmath4/meap01['math4'].count()\n",
    "\n",
    "corr = meap01['math4'].corr(meap01['read4'])\n",
    "print(round(corr,2))\n",
    "print(f'Schools with perfect passing rate (math4); {perfmath4}')\n",
    "print(f'Schools with 50% passing rate (math4); {midmath4}')\n",
    "print(f'Proprotion of schools with perfect passing rate (math4); {perfpropmath4}')\n",
    "\n"
   ]
  },
  {
   "attachments": {},
   "cell_type": "markdown",
   "metadata": {},
   "source": [
    "## Observations and Analysis\n",
    "\n",
    "The range of the math4 values is 0 to 100. My initial thought is that this range is plausible because you can have either all or none of the students be satisfactory. There are 38 schools that have a perfect pass rate in 4th grade math, which makes up roughly 2% of the total sample size. There are 17 schools that have a pass rate of 50%. The average pass rates for math and reading are about 72% and 60% respectively, suggesting that the reading test is harder to pass. The correlation between math4 and read4 is 0.84. This suggests there is a relatively strong positive relationship between the two tests, indicating students who pass the math test are also likely to pass the reading test. From the table, the average expenditure per pupil (exppp) is 5194.87 with a standard deviation of 1091.89. This value to me suggests there is quite a wide variation in per pupil spending, especially considering the range between the min and max. \n",
    "\n"
   ]
  }
 ],
 "metadata": {
  "kernelspec": {
   "display_name": "base",
   "language": "python",
   "name": "python3"
  },
  "language_info": {
   "codemirror_mode": {
    "name": "ipython",
    "version": 3
   },
   "file_extension": ".py",
   "mimetype": "text/x-python",
   "name": "python",
   "nbconvert_exporter": "python",
   "pygments_lexer": "ipython3",
   "version": "3.9.12"
  },
  "orig_nbformat": 4,
  "vscode": {
   "interpreter": {
    "hash": "6c3c1a23f34c945876c4201cdd0a0b710b6b708a5541757240e15335e816e9c2"
   }
  }
 },
 "nbformat": 4,
 "nbformat_minor": 2
}
