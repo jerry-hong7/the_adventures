{
 "cells": [
  {
   "cell_type": "markdown",
   "metadata": {},
   "source": [
    "<style>\n",
    "div.blue{\n",
    "    background-color:#e6f0ff; \n",
    "    border-radius: 5px; \n",
    "    padding: 20px;}\n",
    "</style> \n",
    "\n",
    "<style>\n",
    "div.warn {    \n",
    "    background-color: #fcf2f2;\n",
    "    border-color: #dFb5b4;\n",
    "    border-left: 5px solid #dfb5b4;\n",
    "    padding: 0.5em;\n",
    "    }\n",
    " </style>\n",
    "    \n",
    "<h1 style=\"text-align: center; color: purple;\" markdown=\"1\">Econ 320 Python: Lab 8 Presentation of Results </h1>\n",
    "<h2 style=\"text-align: center; color: purple;\" markdown=\"1\">Jerry Hong </h2>\n",
    "\n",
    " \n"
   ]
  },
  {
   "cell_type": "markdown",
   "metadata": {},
   "source": [
    "# Presentation of results: Stargazer Package for tables\n",
    "\n",
    "After seeing the motivating video about how important and cool stargazer is here are a few things you need to know when using stargazer \n",
    "\n",
    "**knitr options when using stargazer**\n",
    "When using the startgazer package you need to use the option results='asis' in the knitr options of your chunk of code. That way you results will print nicely in the html document. \n",
    "\n",
    "**Do not get confused by the output on Rmd**\n",
    "\n",
    "The stargazer package and function allows you to make tables in differnet types, such as, LaTex, text, or html.\n",
    "You need to specify the type in the type argument of the stargazer table, depending on the type you need to change the knirt options to see results looking neat when knitting. \n",
    "\n",
    "\n",
    "\n",
    "In order to see your results before knitting you might want to use type text, but to show your results in html you need to use html type. When you use html and you run your code your results print html code that looks like *crazy* text for you if you do not know html code. Do not panic, it will look beautiful in html, just  wait until you knit it.\n",
    "\n"
   ]
  },
  {
   "cell_type": "markdown",
   "metadata": {},
   "source": [
    "#### The package setup"
   ]
  },
  {
   "cell_type": "code",
   "execution_count": 4,
   "metadata": {},
   "outputs": [],
   "source": [
    "import wooldridge as woo\n",
    "import numpy as np \n",
    "import pandas as pd\n",
    "import seaborn as sns\n",
    "import matplotlib.pyplot as plt\n",
    "from stargazer.stargazer import Stargazer\n",
    "import statsmodels.formula.api as smf"
   ]
  },
  {
   "cell_type": "markdown",
   "metadata": {},
   "source": [
    "## Summary statistics \n",
    "\n",
    "Below different summary statistics tables to described your data.\n",
    "\n",
    "`Ipython` allows to display any pandas table in a nice html format.\n",
    "\n",
    "Then using the `pandas.DataFrame.describe()` we can visualize a nice summary statistics table"
   ]
  },
  {
   "cell_type": "code",
   "execution_count": 7,
   "metadata": {},
   "outputs": [
    {
     "data": {
      "text/html": [
       "<div>\n",
       "<style scoped>\n",
       "    .dataframe tbody tr th:only-of-type {\n",
       "        vertical-align: middle;\n",
       "    }\n",
       "\n",
       "    .dataframe tbody tr th {\n",
       "        vertical-align: top;\n",
       "    }\n",
       "\n",
       "    .dataframe thead th {\n",
       "        text-align: right;\n",
       "    }\n",
       "</style>\n",
       "<table border=\"1\" class=\"dataframe\">\n",
       "  <thead>\n",
       "    <tr style=\"text-align: right;\">\n",
       "      <th></th>\n",
       "      <th>salary</th>\n",
       "      <th>benefits</th>\n",
       "      <th>enroll</th>\n",
       "      <th>droprate</th>\n",
       "    </tr>\n",
       "  </thead>\n",
       "  <tbody>\n",
       "    <tr>\n",
       "      <th>count</th>\n",
       "      <td>408.000000</td>\n",
       "      <td>408.000000</td>\n",
       "      <td>408.000000</td>\n",
       "      <td>408.000000</td>\n",
       "    </tr>\n",
       "    <tr>\n",
       "      <th>mean</th>\n",
       "      <td>31774.507353</td>\n",
       "      <td>6463.428922</td>\n",
       "      <td>2663.806373</td>\n",
       "      <td>5.066422</td>\n",
       "    </tr>\n",
       "    <tr>\n",
       "      <th>std</th>\n",
       "      <td>5038.303826</td>\n",
       "      <td>1456.337659</td>\n",
       "      <td>2696.820560</td>\n",
       "      <td>5.485072</td>\n",
       "    </tr>\n",
       "    <tr>\n",
       "      <th>min</th>\n",
       "      <td>19764.000000</td>\n",
       "      <td>0.000000</td>\n",
       "      <td>212.000000</td>\n",
       "      <td>0.000000</td>\n",
       "    </tr>\n",
       "    <tr>\n",
       "      <th>25%</th>\n",
       "      <td>28185.500000</td>\n",
       "      <td>5536.500000</td>\n",
       "      <td>1037.500000</td>\n",
       "      <td>1.900000</td>\n",
       "    </tr>\n",
       "    <tr>\n",
       "      <th>50%</th>\n",
       "      <td>31266.000000</td>\n",
       "      <td>6304.500000</td>\n",
       "      <td>1840.500000</td>\n",
       "      <td>3.700000</td>\n",
       "    </tr>\n",
       "    <tr>\n",
       "      <th>75%</th>\n",
       "      <td>34499.750000</td>\n",
       "      <td>7228.000000</td>\n",
       "      <td>3084.750000</td>\n",
       "      <td>6.500000</td>\n",
       "    </tr>\n",
       "    <tr>\n",
       "      <th>max</th>\n",
       "      <td>52812.000000</td>\n",
       "      <td>11618.000000</td>\n",
       "      <td>16793.000000</td>\n",
       "      <td>61.900002</td>\n",
       "    </tr>\n",
       "  </tbody>\n",
       "</table>\n",
       "</div>"
      ],
      "text/plain": [
       "             salary      benefits        enroll    droprate\n",
       "count    408.000000    408.000000    408.000000  408.000000\n",
       "mean   31774.507353   6463.428922   2663.806373    5.066422\n",
       "std     5038.303826   1456.337659   2696.820560    5.485072\n",
       "min    19764.000000      0.000000    212.000000    0.000000\n",
       "25%    28185.500000   5536.500000   1037.500000    1.900000\n",
       "50%    31266.000000   6304.500000   1840.500000    3.700000\n",
       "75%    34499.750000   7228.000000   3084.750000    6.500000\n",
       "max    52812.000000  11618.000000  16793.000000   61.900002"
      ]
     },
     "execution_count": 7,
     "metadata": {},
     "output_type": "execute_result"
    }
   ],
   "source": [
    "# load data named <dataset> and save it in an object with the same name\n",
    "meap93 = woo.dataWoo('meap93')[['salary', 'benefits', 'enroll', 'droprate']]\n",
    "meap93.describe()"
   ]
  },
  {
   "cell_type": "markdown",
   "metadata": {},
   "source": [
    "If you would like to have a latex representation of your table of summary statistics, you can use the `pandas` method `DataFrame.to_latex`."
   ]
  },
  {
   "cell_type": "code",
   "execution_count": 8,
   "metadata": {},
   "outputs": [
    {
     "data": {
      "text/plain": [
       "'\\\\begin{tabular}{lrrrr}\\n\\\\toprule\\n{} &        salary &      benefits &        enroll &    droprate \\\\\\\\\\n\\\\midrule\\ncount &    408.000000 &    408.000000 &    408.000000 &  408.000000 \\\\\\\\\\nmean  &  31774.507353 &   6463.428922 &   2663.806373 &    5.066422 \\\\\\\\\\nstd   &   5038.303826 &   1456.337659 &   2696.820560 &    5.485072 \\\\\\\\\\nmin   &  19764.000000 &      0.000000 &    212.000000 &    0.000000 \\\\\\\\\\n25\\\\%   &  28185.500000 &   5536.500000 &   1037.500000 &    1.900000 \\\\\\\\\\n50\\\\%   &  31266.000000 &   6304.500000 &   1840.500000 &    3.700000 \\\\\\\\\\n75\\\\%   &  34499.750000 &   7228.000000 &   3084.750000 &    6.500000 \\\\\\\\\\nmax   &  52812.000000 &  11618.000000 &  16793.000000 &   61.900002 \\\\\\\\\\n\\\\bottomrule\\n\\\\end{tabular}\\n'"
      ]
     },
     "execution_count": 8,
     "metadata": {},
     "output_type": "execute_result"
    }
   ],
   "source": [
    "meap93.describe().to_latex()\n"
   ]
  },
  {
   "cell_type": "markdown",
   "metadata": {},
   "source": [
    "## Regression Output \n",
    "\n",
    "A model of the trade off between salary and pensions for teachers. \n",
    "$$Log(salary)= \\beta_0 + \\beta_1(benefits/salary)+ other factors + u $$\n",
    "The example below load data, generates the new variable `b_s=(benefits/salary)` and then runs three regressions with different sets of `other factors`. The **stargazer command us used in different ways to report the results in a publishable format. See different examples. \n",
    "\n",
    "Try the chunk of code below as it is and adding warning = FALSE to the options"
   ]
  },
  {
   "cell_type": "code",
   "execution_count": 9,
   "metadata": {},
   "outputs": [],
   "source": [
    "data = woo.dataWoo('meap93')\n",
    "data['b_s']=data['benefits']/data['salary']"
   ]
  },
  {
   "cell_type": "code",
   "execution_count": 11,
   "metadata": {},
   "outputs": [],
   "source": [
    "model1= smf.ols(formula='np.log(salary) ~ b_s', data=data).fit()\n",
    "model2= smf.ols(formula='np.log(salary) ~ b_s + np.log(enroll) + np.log(staff)', data=data).fit()\n",
    "model3= smf.ols(formula='np.log(salary) ~ b_s + np.log(enroll) + np.log(staff) + droprate + gradrate', data=data).fit()\n",
    "\n",
    "\n"
   ]
  },
  {
   "cell_type": "code",
   "execution_count": 12,
   "metadata": {},
   "outputs": [
    {
     "data": {
      "text/html": [
       "<table style=\"text-align:center\"><tr><td colspan=\"4\" style=\"border-bottom: 1px solid black\"></td></tr><tr><td style=\"text-align:left\"></td><td colspan=\"3\"><em>Dependent variable:np.log(salary)</em></td></tr><tr><td style=\"text-align:left\"></td><tr><td style=\"text-align:left\"></td><td>(1)</td><td>(2)</td><td>(3)</td></tr><tr><td colspan=\"4\" style=\"border-bottom: 1px solid black\"></td></tr><tr><td style=\"text-align:left\">Intercept</td><td>10.523<sup>***</sup></td><td>10.844<sup>***</sup></td><td>10.738<sup>***</sup></td></tr><tr><td style=\"text-align:left\"></td><td>(0.042)</td><td>(0.252)</td><td>(0.258)</td></tr><tr><td style=\"text-align:left\">b_s</td><td>-0.825<sup>***</sup></td><td>-0.605<sup>***</sup></td><td>-0.589<sup>***</sup></td></tr><tr><td style=\"text-align:left\"></td><td>(0.200)</td><td>(0.165)</td><td>(0.165)</td></tr><tr><td style=\"text-align:left\">droprate</td><td></td><td></td><td>-0.000<sup></sup></td></tr><tr><td style=\"text-align:left\"></td><td></td><td></td><td>(0.002)</td></tr><tr><td style=\"text-align:left\">gradrate</td><td></td><td></td><td>0.001<sup></sup></td></tr><tr><td style=\"text-align:left\"></td><td></td><td></td><td>(0.001)</td></tr><tr><td style=\"text-align:left\">np.log(enroll)</td><td></td><td>0.087<sup>***</sup></td><td>0.088<sup>***</sup></td></tr><tr><td style=\"text-align:left\"></td><td></td><td>(0.007)</td><td>(0.007)</td></tr><tr><td style=\"text-align:left\">np.log(staff)</td><td></td><td>-0.222<sup>***</sup></td><td>-0.218<sup>***</sup></td></tr><tr><td style=\"text-align:left\"></td><td></td><td>(0.050)</td><td>(0.050)</td></tr><td colspan=\"4\" style=\"border-bottom: 1px solid black\"></td></tr><tr><td style=\"text-align: left\">Observations</td><td>408</td><td>408</td><td>408</td></tr><tr><td style=\"text-align: left\">R<sup>2</sup></td><td>0.040</td><td>0.353</td><td>0.361</td></tr><tr><td style=\"text-align: left\">Adjusted R<sup>2</sup></td><td>0.038</td><td>0.348</td><td>0.353</td></tr><tr><td style=\"text-align: left\">Residual Std. Error</td><td>0.151 (df=406)</td><td>0.125 (df=404)</td><td>0.124 (df=402)</td></tr><tr><td style=\"text-align: left\">F Statistic</td><td>17.050<sup>***</sup> (df=1; 406)</td><td>73.386<sup>***</sup> (df=3; 404)</td><td>45.428<sup>***</sup> (df=5; 402)</td></tr><tr><td colspan=\"4\" style=\"border-bottom: 1px solid black\"></td></tr><tr><td style=\"text-align: left\">Note:</td>\n",
       " <td colspan=\"3\" style=\"text-align: right\">\n",
       "  <sup>*</sup>p&lt;0.1;\n",
       "  <sup>**</sup>p&lt;0.05;\n",
       "  <sup>***</sup>p&lt;0.01\n",
       " </td></tr></table>"
      ],
      "text/plain": [
       "<IPython.core.display.HTML object>"
      ]
     },
     "execution_count": 12,
     "metadata": {},
     "output_type": "execute_result"
    }
   ],
   "source": [
    "st = Stargazer([model1, model2, model3])\n",
    "from IPython.core.display import HTML\n",
    "HTML(st.render_html())"
   ]
  },
  {
   "cell_type": "code",
   "execution_count": 13,
   "metadata": {},
   "outputs": [
    {
     "data": {
      "text/plain": [
       "'\\\\begin{table}[!htbp] \\\\centering\\n\\\\begin{tabular}{@{\\\\extracolsep{5pt}}lccc}\\n\\\\\\\\[-1.8ex]\\\\hline\\n\\\\hline \\\\\\\\[-1.8ex]\\n& \\\\multicolumn{3}{c}{\\\\textit{Dependent variable:}} \\\\\\n\\\\cr \\\\cline{3-4}\\n\\\\\\\\[-1.8ex] & (1) & (2) & (3) \\\\\\\\\\n\\\\hline \\\\\\\\[-1.8ex]\\n Intercept & 10.523$^{***}$ & 10.844$^{***}$ & 10.738$^{***}$ \\\\\\\\\\n  & (0.042) & (0.252) & (0.258) \\\\\\\\\\n b_s & -0.825$^{***}$ & -0.605$^{***}$ & -0.589$^{***}$ \\\\\\\\\\n  & (0.200) & (0.165) & (0.165) \\\\\\\\\\n droprate & & & -0.000$^{}$ \\\\\\\\\\n  & & & (0.002) \\\\\\\\\\n gradrate & & & 0.001$^{}$ \\\\\\\\\\n  & & & (0.001) \\\\\\\\\\n np.log(enroll) & & 0.087$^{***}$ & 0.088$^{***}$ \\\\\\\\\\n  & & (0.007) & (0.007) \\\\\\\\\\n np.log(staff) & & -0.222$^{***}$ & -0.218$^{***}$ \\\\\\\\\\n  & & (0.050) & (0.050) \\\\\\\\\\n\\\\hline \\\\\\\\[-1.8ex]\\n Observations & 408 & 408 & 408 \\\\\\\\\\n $R^2$ & 0.040 & 0.353 & 0.361 \\\\\\\\\\n Adjusted $R^2$ & 0.038 & 0.348 & 0.353 \\\\\\\\\\n Residual Std. Error & 0.151(df = 406) & 0.125(df = 404) & 0.124(df = 402)  \\\\\\\\\\n F Statistic & 17.050$^{***}$ (df = 1.0; 406.0) & 73.386$^{***}$ (df = 3.0; 404.0) & 45.428$^{***}$ (df = 5.0; 402.0) \\\\\\\\\\n\\\\hline\\n\\\\hline \\\\\\\\[-1.8ex]\\n\\\\textit{Note:} & \\\\multicolumn{3}{r}{$^{*}$p$<$0.1; $^{**}$p$<$0.05; $^{***}$p$<$0.01} \\\\\\\\\\n\\\\end{tabular}\\n\\\\end{table}'"
      ]
     },
     "execution_count": 13,
     "metadata": {},
     "output_type": "execute_result"
    }
   ],
   "source": [
    "st.render_latex()"
   ]
  },
  {
   "cell_type": "code",
   "execution_count": 14,
   "metadata": {},
   "outputs": [
    {
     "data": {
      "text/html": [
       "These are awesome results<br><table style=\"text-align:center\"><tr><td colspan=\"4\" style=\"border-bottom: 1px solid black\"></td></tr><tr><td style=\"text-align:left\"></td><td colspan=\"3\"><em>Dependent variable:np.log(salary)</em></td></tr><tr><td style=\"text-align:left\"></td><tr><td style=\"text-align:left\"></td><td>(1)</td><td>(2)</td><td>(3)</td></tr><tr><td colspan=\"4\" style=\"border-bottom: 1px solid black\"></td></tr><tr><td style=\"text-align:left\">Intercept</td><td>10.523<sup>***</sup></td><td>10.844<sup>***</sup></td><td>10.738<sup>***</sup></td></tr><tr><td style=\"text-align:left\"></td><td>(0.042)</td><td>(0.252)</td><td>(0.258)</td></tr><tr><td style=\"text-align:left\">b_s</td><td>-0.825<sup>***</sup></td><td>-0.605<sup>***</sup></td><td>-0.589<sup>***</sup></td></tr><tr><td style=\"text-align:left\"></td><td>(0.200)</td><td>(0.165)</td><td>(0.165)</td></tr><tr><td style=\"text-align:left\">droprate</td><td></td><td></td><td>-0.000<sup></sup></td></tr><tr><td style=\"text-align:left\"></td><td></td><td></td><td>(0.002)</td></tr><tr><td style=\"text-align:left\">gradrate</td><td></td><td></td><td>0.001<sup></sup></td></tr><tr><td style=\"text-align:left\"></td><td></td><td></td><td>(0.001)</td></tr><tr><td style=\"text-align:left\">np.log(enroll)</td><td></td><td>0.087<sup>***</sup></td><td>0.088<sup>***</sup></td></tr><tr><td style=\"text-align:left\"></td><td></td><td>(0.007)</td><td>(0.007)</td></tr><tr><td style=\"text-align:left\">np.log(staff)</td><td></td><td>-0.222<sup>***</sup></td><td>-0.218<sup>***</sup></td></tr><tr><td style=\"text-align:left\"></td><td></td><td>(0.050)</td><td>(0.050)</td></tr><td colspan=\"4\" style=\"border-bottom: 1px solid black\"></td></tr><tr><td style=\"text-align: left\">Observations</td><td>408</td><td>408</td><td>408</td></tr><tr><td style=\"text-align: left\">R<sup>2</sup></td><td>0.040</td><td>0.353</td><td>0.361</td></tr><tr><td style=\"text-align: left\">Adjusted R<sup>2</sup></td><td>0.038</td><td>0.348</td><td>0.353</td></tr><tr><td style=\"text-align: left\">Residual Std. Error</td><td>0.151 (df=406)</td><td>0.125 (df=404)</td><td>0.124 (df=402)</td></tr><tr><td style=\"text-align: left\">F Statistic</td><td>17.050<sup>***</sup> (df=1; 406)</td><td>73.386<sup>***</sup> (df=3; 404)</td><td>45.428<sup>***</sup> (df=5; 402)</td></tr><tr><td colspan=\"4\" style=\"border-bottom: 1px solid black\"></td></tr><tr><td style=\"text-align: left\">Note:</td>\n",
       " <td colspan=\"3\" style=\"text-align: right\">\n",
       "  <sup>*</sup>p&lt;0.1;\n",
       "  <sup>**</sup>p&lt;0.05;\n",
       "  <sup>***</sup>p&lt;0.01\n",
       " </td></tr></table>"
      ],
      "text/plain": [
       "<IPython.core.display.HTML object>"
      ]
     },
     "execution_count": 14,
     "metadata": {},
     "output_type": "execute_result"
    }
   ],
   "source": [
    "st.title(\"These are awesome results\")\n",
    "HTML(st.render_html())"
   ]
  },
  {
   "cell_type": "code",
   "execution_count": 19,
   "metadata": {},
   "outputs": [
    {
     "data": {
      "text/html": [
       "These are awesome results<br><table style=\"text-align:center\"><tr><td colspan=\"4\" style=\"border-bottom: 1px solid black\"></td></tr><tr><td style=\"text-align:left\"></td><td colspan=\"3\"><em>Dependent variable:np.log(salary)</em></td></tr><tr><td style=\"text-align:left\"></td><tr><td></td><td colspan=\"1\">Model 1</td><td colspan=\"1\">Model 2</td><td colspan=\"1\">Model 3</td></tr><tr><td style=\"text-align:left\"></td><td>(1)</td><td>(2)</td><td>(3)</td></tr><tr><td colspan=\"4\" style=\"border-bottom: 1px solid black\"></td></tr><tr><td style=\"text-align:left\">Intercept</td><td>10.523<sup>***</sup></td><td>10.844<sup>***</sup></td><td>10.738<sup>***</sup></td></tr><tr><td style=\"text-align:left\"></td><td>(0.042)</td><td>(0.252)</td><td>(0.258)</td></tr><tr><td style=\"text-align:left\">b_s</td><td>-0.825<sup>***</sup></td><td>-0.605<sup>***</sup></td><td>-0.589<sup>***</sup></td></tr><tr><td style=\"text-align:left\"></td><td>(0.200)</td><td>(0.165)</td><td>(0.165)</td></tr><tr><td style=\"text-align:left\">droprate</td><td></td><td></td><td>-0.000<sup></sup></td></tr><tr><td style=\"text-align:left\"></td><td></td><td></td><td>(0.002)</td></tr><tr><td style=\"text-align:left\">gradrate</td><td></td><td></td><td>0.001<sup></sup></td></tr><tr><td style=\"text-align:left\"></td><td></td><td></td><td>(0.001)</td></tr><tr><td style=\"text-align:left\">np.log(enroll)</td><td></td><td>0.087<sup>***</sup></td><td>0.088<sup>***</sup></td></tr><tr><td style=\"text-align:left\"></td><td></td><td>(0.007)</td><td>(0.007)</td></tr><tr><td style=\"text-align:left\">np.log(staff)</td><td></td><td>-0.222<sup>***</sup></td><td>-0.218<sup>***</sup></td></tr><tr><td style=\"text-align:left\"></td><td></td><td>(0.050)</td><td>(0.050)</td></tr><td colspan=\"4\" style=\"border-bottom: 1px solid black\"></td></tr><tr><td style=\"text-align: left\">Observations</td><td>408</td><td>408</td><td>408</td></tr><tr><td style=\"text-align: left\">R<sup>2</sup></td><td>0.040</td><td>0.353</td><td>0.361</td></tr><tr><td style=\"text-align: left\">Adjusted R<sup>2</sup></td><td>0.038</td><td>0.348</td><td>0.353</td></tr><tr><td style=\"text-align: left\">Residual Std. Error</td><td>0.151 (df=406)</td><td>0.125 (df=404)</td><td>0.124 (df=402)</td></tr><tr><td style=\"text-align: left\">F Statistic</td><td>17.050<sup>***</sup> (df=1; 406)</td><td>73.386<sup>***</sup> (df=3; 404)</td><td>45.428<sup>***</sup> (df=5; 402)</td></tr><tr><td colspan=\"4\" style=\"border-bottom: 1px solid black\"></td></tr><tr><td style=\"text-align: left\">Note:</td>\n",
       " <td colspan=\"3\" style=\"text-align: right\">\n",
       "  <sup>*</sup>p&lt;0.1;\n",
       "  <sup>**</sup>p&lt;0.05;\n",
       "  <sup>***</sup>p&lt;0.01\n",
       " </td></tr></table>"
      ],
      "text/plain": [
       "<IPython.core.display.HTML object>"
      ]
     },
     "execution_count": 19,
     "metadata": {},
     "output_type": "execute_result"
    }
   ],
   "source": [
    "st.custom_columns(['Model 1', 'Model 2', 'Model 3'], [1,1,1])\n",
    "HTML(st.render_html())"
   ]
  },
  {
   "cell_type": "code",
   "execution_count": 20,
   "metadata": {},
   "outputs": [
    {
     "data": {
      "text/html": [
       "These are awesome results<br><table style=\"text-align:center\"><tr><td colspan=\"4\" style=\"border-bottom: 1px solid black\"></td></tr><tr><td style=\"text-align:left\"></td><td colspan=\"3\"><em>Dependent variable:np.log(salary)</em></td></tr><tr><td style=\"text-align:left\"></td><tr><td></td><td colspan=\"1\">Model 1</td><td colspan=\"1\">Model 2</td><td colspan=\"1\">Model 3</td></tr><tr><td style=\"text-align:left\"></td><td>(1)</td><td>(2)</td><td>(3)</td></tr><tr><td colspan=\"4\" style=\"border-bottom: 1px solid black\"></td></tr><tr><td style=\"text-align:left\">Intercept</td><td>10.523<sup>***</sup></td><td>10.844<sup>***</sup></td><td>10.738<sup>***</sup></td></tr><tr><td style=\"text-align:left\"></td><td>(0.042)</td><td>(0.252)</td><td>(0.258)</td></tr><tr><td style=\"text-align:left\">Benefits Salary Ratio</td><td>-0.825<sup>***</sup></td><td>-0.605<sup>***</sup></td><td>-0.589<sup>***</sup></td></tr><tr><td style=\"text-align:left\"></td><td>(0.200)</td><td>(0.165)</td><td>(0.165)</td></tr><tr><td style=\"text-align:left\">droprate</td><td></td><td></td><td>-0.000<sup></sup></td></tr><tr><td style=\"text-align:left\"></td><td></td><td></td><td>(0.002)</td></tr><tr><td style=\"text-align:left\">gradrate</td><td></td><td></td><td>0.001<sup></sup></td></tr><tr><td style=\"text-align:left\"></td><td></td><td></td><td>(0.001)</td></tr><tr><td style=\"text-align:left\">np.log(enroll)</td><td></td><td>0.087<sup>***</sup></td><td>0.088<sup>***</sup></td></tr><tr><td style=\"text-align:left\"></td><td></td><td>(0.007)</td><td>(0.007)</td></tr><tr><td style=\"text-align:left\">np.log(staff)</td><td></td><td>-0.222<sup>***</sup></td><td>-0.218<sup>***</sup></td></tr><tr><td style=\"text-align:left\"></td><td></td><td>(0.050)</td><td>(0.050)</td></tr><td colspan=\"4\" style=\"border-bottom: 1px solid black\"></td></tr><tr><td style=\"text-align: left\">Observations</td><td>408</td><td>408</td><td>408</td></tr><tr><td style=\"text-align: left\">R<sup>2</sup></td><td>0.040</td><td>0.353</td><td>0.361</td></tr><tr><td style=\"text-align: left\">Adjusted R<sup>2</sup></td><td>0.038</td><td>0.348</td><td>0.353</td></tr><tr><td style=\"text-align: left\">Residual Std. Error</td><td>0.151 (df=406)</td><td>0.125 (df=404)</td><td>0.124 (df=402)</td></tr><tr><td style=\"text-align: left\">F Statistic</td><td>17.050<sup>***</sup> (df=1; 406)</td><td>73.386<sup>***</sup> (df=3; 404)</td><td>45.428<sup>***</sup> (df=5; 402)</td></tr><tr><td colspan=\"4\" style=\"border-bottom: 1px solid black\"></td></tr><tr><td style=\"text-align: left\">Note:</td>\n",
       " <td colspan=\"3\" style=\"text-align: right\">\n",
       "  <sup>*</sup>p&lt;0.1;\n",
       "  <sup>**</sup>p&lt;0.05;\n",
       "  <sup>***</sup>p&lt;0.01\n",
       " </td></tr></table>"
      ],
      "text/plain": [
       "<IPython.core.display.HTML object>"
      ]
     },
     "execution_count": 20,
     "metadata": {},
     "output_type": "execute_result"
    }
   ],
   "source": [
    "st.rename_covariates({'b_s': 'Benefits Salary Ratio'})\n",
    "HTML(st.render_html())"
   ]
  },
  {
   "cell_type": "code",
   "execution_count": 21,
   "metadata": {},
   "outputs": [
    {
     "data": {
      "text/html": [
       "These are awesome results<br><table style=\"text-align:center\"><tr><td colspan=\"4\" style=\"border-bottom: 1px solid black\"></td></tr><tr><td style=\"text-align:left\"></td><td colspan=\"3\"><em>Dependent variable:np.log(salary)</em></td></tr><tr><td style=\"text-align:left\"></td><tr><td></td><td colspan=\"1\">Model 1</td><td colspan=\"1\">Model 2</td><td colspan=\"1\">Model 3</td></tr><tr><td style=\"text-align:left\"></td><td>(1)</td><td>(2)</td><td>(3)</td></tr><tr><td colspan=\"4\" style=\"border-bottom: 1px solid black\"></td></tr><tr><td style=\"text-align:left\">Intercept</td><td>10.523<sup>***</sup></td><td>10.844<sup>***</sup></td><td>10.738<sup>***</sup></td></tr><tr><td style=\"text-align:left\"></td><td>(0.042)</td><td>(0.252)</td><td>(0.258)</td></tr><tr><td style=\"text-align:left\">Benefits Salary Ratio</td><td>-0.825<sup>***</sup></td><td>-0.605<sup>***</sup></td><td>-0.589<sup>***</sup></td></tr><tr><td style=\"text-align:left\"></td><td>(0.200)</td><td>(0.165)</td><td>(0.165)</td></tr><tr><td style=\"text-align:left\">droprate</td><td></td><td></td><td>-0.000<sup></sup></td></tr><tr><td style=\"text-align:left\"></td><td></td><td></td><td>(0.002)</td></tr><tr><td style=\"text-align:left\">gradrate</td><td></td><td></td><td>0.001<sup></sup></td></tr><tr><td style=\"text-align:left\"></td><td></td><td></td><td>(0.001)</td></tr><tr><td style=\"text-align:left\">np.log(enroll)</td><td></td><td>0.087<sup>***</sup></td><td>0.088<sup>***</sup></td></tr><tr><td style=\"text-align:left\"></td><td></td><td>(0.007)</td><td>(0.007)</td></tr><tr><td style=\"text-align:left\">np.log(staff)</td><td></td><td>-0.222<sup>***</sup></td><td>-0.218<sup>***</sup></td></tr><tr><td style=\"text-align:left\"></td><td></td><td>(0.050)</td><td>(0.050)</td></tr><td colspan=\"4\" style=\"border-bottom: 1px solid black\"></td></tr><tr><td style=\"text-align: left\">Observations</td><td>408</td><td>408</td><td>408</td></tr><tr><td style=\"text-align: left\">R<sup>2</sup></td><td>0.040</td><td>0.353</td><td>0.361</td></tr><tr><td style=\"text-align: left\">Adjusted R<sup>2</sup></td><td>0.038</td><td>0.348</td><td>0.353</td></tr><tr><td style=\"text-align: left\">Residual Std. Error</td><td>0.151 (df=406)</td><td>0.125 (df=404)</td><td>0.124 (df=402)</td></tr><tr><td style=\"text-align: left\">F Statistic</td><td>17.050<sup>***</sup> (df=1; 406)</td><td>73.386<sup>***</sup> (df=3; 404)</td><td>45.428<sup>***</sup> (df=5; 402)</td></tr><tr><td colspan=\"4\" style=\"border-bottom: 1px solid black\"></td></tr><tr><td style=\"text-align: left\">This is some note I will include</td>\n",
       " <td colspan=\"3\" style=\"text-align: right\">\n",
       "  <sup>*</sup>p&lt;0.1;\n",
       "  <sup>**</sup>p&lt;0.05;\n",
       "  <sup>***</sup>p&lt;0.01\n",
       " </td></tr></table>"
      ],
      "text/plain": [
       "<IPython.core.display.HTML object>"
      ]
     },
     "execution_count": 21,
     "metadata": {},
     "output_type": "execute_result"
    }
   ],
   "source": [
    "st.custom_note_label(\"This is some note I will include\")\n",
    "HTML(st.render_html())"
   ]
  },
  {
   "cell_type": "markdown",
   "metadata": {},
   "source": [
    "Other options to explore with this command include:\n",
    "* `show_header`: display or hide model header data\n",
    "* `show_model_numbers`: display or hide model numbers\n",
    "* `custom_columns`: custom model names and model groupings\n",
    "* `significance_levels`: change statistical significance thresholds\n",
    "* `significant_digits`: change number of significant digits\n",
    "* `show_confidence_intervals`: display confidence intervals instead of variance\n",
    "* `dependent_variable_name`: rename dependent variable\n",
    "* `rename_covariates`: rename covariates\n",
    "* `covariate_order`: reorder covariates\n",
    "* `reset_covariate_order`: reset covariate order to original ordering\n",
    "* `show_degrees_of_freedom`: display or hide degrees of freedom\n",
    "* `custom_note_label`: label notes section at bottom of table\n",
    "* `add_custom_notes`: add custom notes to section at bottom of the table\n",
    "* `append_notes`: display or hide statistical significance thresholds"
   ]
  },
  {
   "cell_type": "markdown",
   "metadata": {},
   "source": [
    "# In class exercise \n",
    "\n",
    "1. Create a new Rmarkdown document\n",
    "\n",
    "2. Use the data set `attitude`. A built-in dataset in R. \n",
    "3. Using the `stargazer` package (Remember you need to have this package installed)<br>\n",
    "   3.1.  Create a summary statistics table of this dataset<br>\n",
    "   3.2 Run the following two regressions <br>\n",
    "      $$ Rating = \\beta_0 + \\beta_1*Complaints + \\beta_2*Privileges + \\beta_3*Learning + \\beta_4*Raises +          \\beta_5*Critical$$\n",
    "      \n",
    "      \n",
    "      $$ Rating = \\beta_0 + \\beta_1*Complaints + \\beta_2*Privileges + \\beta_3*Learning $$ \n",
    "      and save the results in two objects named linear.1 and linear.2 \n",
    "\n",
    "   3.3 Make a table with this results combined, change the name of the table to make them look better. Give names to          the models and give a label to the dpendent variable in the table as seen in the class example. \n",
    "\n",
    "4. knit your document into html and see how it looks. You should know present your regression results using this code. \n"
   ]
  },
  {
   "cell_type": "code",
   "execution_count": 23,
   "metadata": {},
   "outputs": [
    {
     "data": {
      "text/html": [
       "<div>\n",
       "<style scoped>\n",
       "    .dataframe tbody tr th:only-of-type {\n",
       "        vertical-align: middle;\n",
       "    }\n",
       "\n",
       "    .dataframe tbody tr th {\n",
       "        vertical-align: top;\n",
       "    }\n",
       "\n",
       "    .dataframe thead th {\n",
       "        text-align: right;\n",
       "    }\n",
       "</style>\n",
       "<table border=\"1\" class=\"dataframe\">\n",
       "  <thead>\n",
       "    <tr style=\"text-align: right;\">\n",
       "      <th></th>\n",
       "      <th>rating</th>\n",
       "      <th>complaints</th>\n",
       "      <th>privileges</th>\n",
       "      <th>learning</th>\n",
       "      <th>raises</th>\n",
       "      <th>critical</th>\n",
       "      <th>advance</th>\n",
       "    </tr>\n",
       "  </thead>\n",
       "  <tbody>\n",
       "    <tr>\n",
       "      <th>count</th>\n",
       "      <td>30.000000</td>\n",
       "      <td>30.000000</td>\n",
       "      <td>30.000000</td>\n",
       "      <td>30.000000</td>\n",
       "      <td>30.000000</td>\n",
       "      <td>30.000000</td>\n",
       "      <td>30.000000</td>\n",
       "    </tr>\n",
       "    <tr>\n",
       "      <th>mean</th>\n",
       "      <td>64.633333</td>\n",
       "      <td>66.600000</td>\n",
       "      <td>53.133333</td>\n",
       "      <td>56.366667</td>\n",
       "      <td>64.633333</td>\n",
       "      <td>74.766667</td>\n",
       "      <td>42.933333</td>\n",
       "    </tr>\n",
       "    <tr>\n",
       "      <th>std</th>\n",
       "      <td>12.172562</td>\n",
       "      <td>13.314757</td>\n",
       "      <td>12.235430</td>\n",
       "      <td>11.737013</td>\n",
       "      <td>10.397226</td>\n",
       "      <td>9.894908</td>\n",
       "      <td>10.288706</td>\n",
       "    </tr>\n",
       "    <tr>\n",
       "      <th>min</th>\n",
       "      <td>40.000000</td>\n",
       "      <td>37.000000</td>\n",
       "      <td>30.000000</td>\n",
       "      <td>34.000000</td>\n",
       "      <td>43.000000</td>\n",
       "      <td>49.000000</td>\n",
       "      <td>25.000000</td>\n",
       "    </tr>\n",
       "    <tr>\n",
       "      <th>25%</th>\n",
       "      <td>58.750000</td>\n",
       "      <td>58.500000</td>\n",
       "      <td>45.000000</td>\n",
       "      <td>47.000000</td>\n",
       "      <td>58.250000</td>\n",
       "      <td>69.250000</td>\n",
       "      <td>35.000000</td>\n",
       "    </tr>\n",
       "    <tr>\n",
       "      <th>50%</th>\n",
       "      <td>65.500000</td>\n",
       "      <td>65.000000</td>\n",
       "      <td>51.500000</td>\n",
       "      <td>56.500000</td>\n",
       "      <td>63.500000</td>\n",
       "      <td>77.500000</td>\n",
       "      <td>41.000000</td>\n",
       "    </tr>\n",
       "    <tr>\n",
       "      <th>75%</th>\n",
       "      <td>71.750000</td>\n",
       "      <td>77.000000</td>\n",
       "      <td>62.500000</td>\n",
       "      <td>66.750000</td>\n",
       "      <td>71.000000</td>\n",
       "      <td>80.000000</td>\n",
       "      <td>47.750000</td>\n",
       "    </tr>\n",
       "    <tr>\n",
       "      <th>max</th>\n",
       "      <td>85.000000</td>\n",
       "      <td>90.000000</td>\n",
       "      <td>83.000000</td>\n",
       "      <td>75.000000</td>\n",
       "      <td>88.000000</td>\n",
       "      <td>92.000000</td>\n",
       "      <td>72.000000</td>\n",
       "    </tr>\n",
       "  </tbody>\n",
       "</table>\n",
       "</div>"
      ],
      "text/plain": [
       "          rating  complaints  privileges   learning     raises   critical  \\\n",
       "count  30.000000   30.000000   30.000000  30.000000  30.000000  30.000000   \n",
       "mean   64.633333   66.600000   53.133333  56.366667  64.633333  74.766667   \n",
       "std    12.172562   13.314757   12.235430  11.737013  10.397226   9.894908   \n",
       "min    40.000000   37.000000   30.000000  34.000000  43.000000  49.000000   \n",
       "25%    58.750000   58.500000   45.000000  47.000000  58.250000  69.250000   \n",
       "50%    65.500000   65.000000   51.500000  56.500000  63.500000  77.500000   \n",
       "75%    71.750000   77.000000   62.500000  66.750000  71.000000  80.000000   \n",
       "max    85.000000   90.000000   83.000000  75.000000  88.000000  92.000000   \n",
       "\n",
       "         advance  \n",
       "count  30.000000  \n",
       "mean   42.933333  \n",
       "std    10.288706  \n",
       "min    25.000000  \n",
       "25%    35.000000  \n",
       "50%    41.000000  \n",
       "75%    47.750000  \n",
       "max    72.000000  "
      ]
     },
     "execution_count": 23,
     "metadata": {},
     "output_type": "execute_result"
    }
   ],
   "source": [
    "att = pd.read_csv(r\"C:\\Users\\jerry\\OneDrive - Emory University\\AtlantaJunior\\Spring 2023\\ECON 320\\LAB\\Data\\attitude.csv\")\n",
    "att.describe()\n",
    "#use other options provided in the list above there is the need to rewrite this whole notebook"
   ]
  },
  {
   "cell_type": "code",
   "execution_count": 28,
   "metadata": {},
   "outputs": [],
   "source": [
    "linear1 = smf.ols(formula='rating ~ complaints + privileges + learning + raises + critical + advance', data = att).fit()\n",
    "linear2 = smf.ols(formula='rating ~ complaints + privileges + learning', data = att).fit()"
   ]
  },
  {
   "cell_type": "code",
   "execution_count": 44,
   "metadata": {},
   "outputs": [
    {
     "data": {
      "text/html": [
       "Difference in Omitting Variables for Regressing Attitude Rating<br><table style=\"text-align:center\"><tr><td colspan=\"3\" style=\"border-bottom: 1px solid black\"></td></tr><tr><td style=\"text-align:left\"></td><td colspan=\"2\"><em>Dependent variable: rating</em></td></tr><tr><td style=\"text-align:left\"></td><tr><td></td><td colspan=\"1\">Linear 1</td><td colspan=\"1\">Linear 2</td></tr><tr><td style=\"text-align:left\"></td><td>(1)</td><td>(2)</td></tr><tr><td colspan=\"3\" style=\"border-bottom: 1px solid black\"></td></tr><tr><td style=\"text-align:left\">Intercept</td><td>10.787<sup></sup></td><td>11.258<sup></sup></td></tr><tr><td style=\"text-align:left\"></td><td>(11.589)</td><td>(7.318)</td></tr><tr><td style=\"text-align:left\">Advance</td><td>-0.217<sup></sup></td><td></td></tr><tr><td style=\"text-align:left\"></td><td>(0.178)</td><td></td></tr><tr><td style=\"text-align:left\">Complaints</td><td>0.613<sup>***</sup></td><td>0.682<sup>***</sup></td></tr><tr><td style=\"text-align:left\"></td><td>(0.161)</td><td>(0.129)</td></tr><tr><td style=\"text-align:left\">Critical</td><td>0.038<sup></sup></td><td></td></tr><tr><td style=\"text-align:left\"></td><td>(0.147)</td><td></td></tr><tr><td style=\"text-align:left\">Learning</td><td>0.320<sup>*</sup></td><td>0.238<sup>*</sup></td></tr><tr><td style=\"text-align:left\"></td><td>(0.169)</td><td>(0.139)</td></tr><tr><td style=\"text-align:left\">Privilieges</td><td>-0.073<sup></sup></td><td>-0.103<sup></sup></td></tr><tr><td style=\"text-align:left\"></td><td>(0.136)</td><td>(0.129)</td></tr><tr><td style=\"text-align:left\">Raises</td><td>0.082<sup></sup></td><td></td></tr><tr><td style=\"text-align:left\"></td><td>(0.221)</td><td></td></tr><td colspan=\"3\" style=\"border-bottom: 1px solid black\"></td></tr><tr><td style=\"text-align: left\">Observations</td><td>30</td><td>30</td></tr><tr><td style=\"text-align: left\">R<sup>2</sup></td><td>0.733</td><td>0.715</td></tr><tr><td style=\"text-align: left\">Adjusted R<sup>2</sup></td><td>0.663</td><td>0.682</td></tr><tr><td style=\"text-align: left\">Residual Std. Error</td><td>7.068 (df=23)</td><td>6.863 (df=26)</td></tr><tr><td style=\"text-align: left\">F Statistic</td><td>10.502<sup>***</sup> (df=6; 23)</td><td>21.743<sup>***</sup> (df=3; 26)</td></tr><tr><td colspan=\"3\" style=\"border-bottom: 1px solid black\"></td></tr><tr><td style=\"text-align: left\">Note: The chosen variables to omit are random</td>\n",
       " <td colspan=\"2\" style=\"text-align: right\">\n",
       "  <sup>*</sup>p&lt;0.1;\n",
       "  <sup>**</sup>p&lt;0.05;\n",
       "  <sup>***</sup>p&lt;0.01\n",
       " </td></tr></table>"
      ],
      "text/plain": [
       "<IPython.core.display.HTML object>"
      ]
     },
     "execution_count": 44,
     "metadata": {},
     "output_type": "execute_result"
    }
   ],
   "source": [
    "st = Stargazer([linear1, linear2])\n",
    "from IPython.core.display import HTML\n",
    "\n",
    "st.custom_columns(['Linear 1', 'Linear 2'], [1,1])\n",
    "st.rename_covariates({'advance':'Advance','complaints':'Complaints','critical':'Critical','learning':'Learning','privileges':'Privilieges','raises':'Raises'})\n",
    "st.title('Difference in Omitting Variables for Regressing Attitude Rating')\n",
    "st.dependent_variable_name('Dependent variable: ')\n",
    "st.custom_note_label('Note: The chosen variables to omit are random') # the add_custom_notes created a line break for each character\n",
    "\n",
    "HTML(st.render_html())"
   ]
  }
 ],
 "metadata": {
  "kernelspec": {
   "display_name": "base",
   "language": "python",
   "name": "python3"
  },
  "language_info": {
   "codemirror_mode": {
    "name": "ipython",
    "version": 3
   },
   "file_extension": ".py",
   "mimetype": "text/x-python",
   "name": "python",
   "nbconvert_exporter": "python",
   "pygments_lexer": "ipython3",
   "version": "3.9.7"
  },
  "vscode": {
   "interpreter": {
    "hash": "6c3c1a23f34c945876c4201cdd0a0b710b6b708a5541757240e15335e816e9c2"
   }
  }
 },
 "nbformat": 4,
 "nbformat_minor": 4
}
