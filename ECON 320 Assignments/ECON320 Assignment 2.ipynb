{
 "cells": [
  {
   "attachments": {},
   "cell_type": "markdown",
   "metadata": {},
   "source": [
    "###    \n",
    "<h1 style=\"text-align: center; color: purple;\" markdown=\"1\">Econ 320: Python Assignment 2 </h1>\n",
    "\n",
    "<h2 style=\"text-align: center; color: #012169\" markdown=\"1\">Effects of education on wages</h2>\n",
    "\n",
    "<h2 style=\"text-align: center;\" markdown=\"1\">Jerry Hong</h2>\n"
   ]
  },
  {
   "cell_type": "markdown",
   "metadata": {},
   "source": [
    "## Package setup"
   ]
  },
  {
   "cell_type": "code",
   "execution_count": 1,
   "metadata": {
    "code_folding": []
   },
   "outputs": [],
   "source": [
    "# import necessary packages\n",
    "\n",
    "import wooldridge as woo\n",
    "import numpy as np \n",
    "import pandas as pd\n",
    "import matplotlib.pyplot as plt\n",
    "import seaborn as sns\n",
    "import statsmodels.formula.api as smf\n",
    "import scipy.stats as stats\n",
    "from scipy.optimize import minimize\n"
   ]
  },
  {
   "attachments": {},
   "cell_type": "markdown",
   "metadata": {},
   "source": [
    "Download the [PSID 1982 dataset](https://www.wiley.com/legacy/wileychi/baltagi/supp/WAGES.xls) and save as a CSV. This is cross-sectional data originating from the [Panel Study on Income Dynamics](https://psidonline.isr.umich.edu/), 1982. In this assignment, we will use this data to investigate the effect of eduction on wages for this population. \n",
    "\n",
    "Let's first investigate our data and a few relationships in it. This is a little of what I call the \"motivation\" part of your regression analysis. This is very simple- you will have to do more involved things in your final project. \n",
    "\n",
    "* First, check [here](https://rdrr.io/cran/AER/man/PSID1982.html) to see what each variable means. Find the path of where you save this data set in your computer and import it into your Jupyter notebook.\n",
    "\n",
    "* Then create two tables to show the proportion of women and men in the dataset and the proportion of people that reside in a standard metropolitan statistical area. (smsa variable)\n",
    "\n",
    "* Create a third table, the cross reference table for these two variables.  "
   ]
  },
  {
   "cell_type": "markdown",
   "metadata": {},
   "source": [
    "## Import the dataset as a CSV"
   ]
  },
  {
   "cell_type": "code",
   "execution_count": 2,
   "metadata": {
    "code_folding": []
   },
   "outputs": [
    {
     "name": "stdout",
     "output_type": "stream",
     "text": [
      "<class 'pandas.core.frame.DataFrame'>\n",
      "RangeIndex: 595 entries, 0 to 594\n",
      "Data columns (total 13 columns):\n",
      " #   Column      Non-Null Count  Dtype \n",
      "---  ------      --------------  ----- \n",
      " 0   Unnamed: 0  595 non-null    int64 \n",
      " 1   experience  595 non-null    int64 \n",
      " 2   weeks       595 non-null    int64 \n",
      " 3   occupation  595 non-null    object\n",
      " 4   industry    595 non-null    object\n",
      " 5   south       595 non-null    object\n",
      " 6   smsa        595 non-null    object\n",
      " 7   married     595 non-null    object\n",
      " 8   gender      595 non-null    object\n",
      " 9   union       595 non-null    object\n",
      " 10  education   595 non-null    int64 \n",
      " 11  ethnicity   595 non-null    object\n",
      " 12  wage        595 non-null    int64 \n",
      "dtypes: int64(5), object(8)\n",
      "memory usage: 60.6+ KB\n"
     ]
    }
   ],
   "source": [
    "# Note: this will be your own file path\n",
    "stats = pd.read_csv(r\"C:\\Users\\jerry\\OneDrive - Emory University\\AtlantaJunior\\Spring 2023\\ECON 320\\LAB\\Data\\PSID1982.csv\")\n",
    "stats.info()"
   ]
  },
  {
   "attachments": {},
   "cell_type": "markdown",
   "metadata": {},
   "source": [
    "## Create `gender` tables\n",
    "\n",
    "1. Frequency table showing the **number** of respondents with each gender\n",
    "2. Proportion table showing the what **portion** of respondents are for each gender"
   ]
  },
  {
   "cell_type": "code",
   "execution_count": 3,
   "metadata": {
    "code_folding": []
   },
   "outputs": [
    {
     "name": "stdout",
     "output_type": "stream",
     "text": [
      "freq table: \n",
      "male      528\n",
      "female     67\n",
      "Name: gender, dtype: int64\n",
      "\n",
      "prop table: \n",
      "male      0.887395\n",
      "female    0.112605\n",
      "Name: gender, dtype: float64\n",
      "\n"
     ]
    }
   ],
   "source": [
    "#create and print a gender frequency table \n",
    "table1_pd = stats.gender.value_counts()\n",
    "print(f'freq table: \\n{table1_pd}\\n')\n",
    "\n",
    "#find the proportions of each each gender and print this table\n",
    "prop_gender = stats.gender.value_counts(normalize=True)\n",
    "print(f'prop table: \\n{prop_gender}\\n')"
   ]
  },
  {
   "cell_type": "markdown",
   "metadata": {},
   "source": [
    "## Create `smsa` tables\n",
    "\n",
    "1. Frequency table showing the **number** of respondents that do or do not live in an \"SMSA\"\n",
    "2. Proportion table showing the what **portion** of respondents do or do not live in an \"SMSA\""
   ]
  },
  {
   "cell_type": "code",
   "execution_count": 4,
   "metadata": {
    "code_folding": [
     0
    ]
   },
   "outputs": [
    {
     "name": "stdout",
     "output_type": "stream",
     "text": [
      "freq table: \n",
      "yes    382\n",
      "no     213\n",
      "Name: smsa, dtype: int64\n",
      "\n",
      "prop table: \n",
      "yes    0.642017\n",
      "no     0.357983\n",
      "Name: smsa, dtype: float64\n",
      "\n"
     ]
    }
   ],
   "source": [
    "# create and print a table showing how many respondents do or do not live in a \"SMSA\"\n",
    "table2_pd = stats.smsa.value_counts()\n",
    "print(f'freq table: \\n{table2_pd}\\n')\n",
    "\n",
    "# find the proportions of the above figures\n",
    "prop_smsa = stats.smsa.value_counts(normalize=True)\n",
    "print(f'prop table: \\n{prop_smsa}\\n')"
   ]
  },
  {
   "cell_type": "markdown",
   "metadata": {},
   "source": [
    "## Add a [cross table](https://pandas.pydata.org/pandas-docs/stable/reference/api/pandas.crosstab.html) using `gender` and `smsa`"
   ]
  },
  {
   "cell_type": "code",
   "execution_count": 5,
   "metadata": {
    "code_folding": []
   },
   "outputs": [
    {
     "data": {
      "text/html": [
       "<div>\n",
       "<style scoped>\n",
       "    .dataframe tbody tr th:only-of-type {\n",
       "        vertical-align: middle;\n",
       "    }\n",
       "\n",
       "    .dataframe tbody tr th {\n",
       "        vertical-align: top;\n",
       "    }\n",
       "\n",
       "    .dataframe thead th {\n",
       "        text-align: right;\n",
       "    }\n",
       "</style>\n",
       "<table border=\"1\" class=\"dataframe\">\n",
       "  <thead>\n",
       "    <tr style=\"text-align: right;\">\n",
       "      <th>smsa</th>\n",
       "      <th>no</th>\n",
       "      <th>yes</th>\n",
       "    </tr>\n",
       "    <tr>\n",
       "      <th>gender</th>\n",
       "      <th></th>\n",
       "      <th></th>\n",
       "    </tr>\n",
       "  </thead>\n",
       "  <tbody>\n",
       "    <tr>\n",
       "      <th>female</th>\n",
       "      <td>0.023529</td>\n",
       "      <td>0.089076</td>\n",
       "    </tr>\n",
       "    <tr>\n",
       "      <th>male</th>\n",
       "      <td>0.334454</td>\n",
       "      <td>0.552941</td>\n",
       "    </tr>\n",
       "  </tbody>\n",
       "</table>\n",
       "</div>"
      ],
      "text/plain": [
       "smsa          no       yes\n",
       "gender                    \n",
       "female  0.023529  0.089076\n",
       "male    0.334454  0.552941"
      ]
     },
     "execution_count": 5,
     "metadata": {},
     "output_type": "execute_result"
    }
   ],
   "source": [
    "# create a cross table to show proportions of each group\n",
    "crosstab = pd.crosstab(stats.gender, stats.smsa, normalize=True)\n",
    "crosstab"
   ]
  },
  {
   "cell_type": "markdown",
   "metadata": {},
   "source": [
    "## Add a correlation table using `wage`,`education`, and `experience`"
   ]
  },
  {
   "cell_type": "markdown",
   "metadata": {},
   "source": [
    "* The following table looks at the correlation table between wages education and experience. \n",
    "* What can you say about this correlations? Do they have the expected sign?"
   ]
  },
  {
   "cell_type": "code",
   "execution_count": 6,
   "metadata": {
    "code_folding": []
   },
   "outputs": [
    {
     "data": {
      "text/html": [
       "<div>\n",
       "<style scoped>\n",
       "    .dataframe tbody tr th:only-of-type {\n",
       "        vertical-align: middle;\n",
       "    }\n",
       "\n",
       "    .dataframe tbody tr th {\n",
       "        vertical-align: top;\n",
       "    }\n",
       "\n",
       "    .dataframe thead th {\n",
       "        text-align: right;\n",
       "    }\n",
       "</style>\n",
       "<table border=\"1\" class=\"dataframe\">\n",
       "  <thead>\n",
       "    <tr style=\"text-align: right;\">\n",
       "      <th></th>\n",
       "      <th>wage</th>\n",
       "      <th>education</th>\n",
       "      <th>experience</th>\n",
       "    </tr>\n",
       "  </thead>\n",
       "  <tbody>\n",
       "    <tr>\n",
       "      <th>wage</th>\n",
       "      <td>1.000</td>\n",
       "      <td>0.441</td>\n",
       "      <td>0.090</td>\n",
       "    </tr>\n",
       "    <tr>\n",
       "      <th>education</th>\n",
       "      <td>0.441</td>\n",
       "      <td>1.000</td>\n",
       "      <td>-0.222</td>\n",
       "    </tr>\n",
       "    <tr>\n",
       "      <th>experience</th>\n",
       "      <td>0.090</td>\n",
       "      <td>-0.222</td>\n",
       "      <td>1.000</td>\n",
       "    </tr>\n",
       "  </tbody>\n",
       "</table>\n",
       "</div>"
      ],
      "text/plain": [
       "             wage  education  experience\n",
       "wage        1.000      0.441       0.090\n",
       "education   0.441      1.000      -0.222\n",
       "experience  0.090     -0.222       1.000"
      ]
     },
     "execution_count": 6,
     "metadata": {},
     "output_type": "execute_result"
    }
   ],
   "source": [
    "# slice the data for the desired variables\n",
    "cormat = stats[['wage', 'education', 'experience']]\n",
    "\n",
    "# create a correlation matrix\n",
    "round(cormat.corr(), 3)"
   ]
  },
  {
   "attachments": {},
   "cell_type": "markdown",
   "metadata": {},
   "source": [
    "### Observations\n",
    "The correlations among the variables are fairly weak. For the most part, the signs are what I expected. For example, education and wage have a positive correlation as I expected. One I did not expect is the relatively negative correlation between education and experience. My initial thought is that it should also be positive albeit not as strong as the other variables. "
   ]
  },
  {
   "cell_type": "markdown",
   "metadata": {},
   "source": [
    "## Find averages of relevant variables and some statistics by gender\n",
    "\n",
    "\n",
    "1. Look at the averages for the whole sample for wage, education, and experience\n",
    "\n",
    "2. Calculate the above averages, now separated by gender. Add the correlation between wage and education by gender.  \n",
    "\n",
    "\n",
    "* What can you say about these results? \n",
    "\n",
    "* What can you say about the average values for women vs men? \n"
   ]
  },
  {
   "cell_type": "code",
   "execution_count": 7,
   "metadata": {
    "code_folding": []
   },
   "outputs": [
    {
     "name": "stderr",
     "output_type": "stream",
     "text": [
      "c:\\Users\\jerry\\anaconda3\\lib\\site-packages\\numpy\\core\\fromnumeric.py:3438: FutureWarning: In a future version, DataFrame.mean(axis=None) will return a scalar mean over the entire DataFrame. To retain the old behavior, use 'frame.mean(axis=0)' or just 'frame.mean()'\n",
      "  return mean(axis=axis, dtype=dtype, out=out, **kwargs)\n"
     ]
    },
    {
     "data": {
      "text/html": [
       "<div>\n",
       "<style scoped>\n",
       "    .dataframe tbody tr th:only-of-type {\n",
       "        vertical-align: middle;\n",
       "    }\n",
       "\n",
       "    .dataframe tbody tr th {\n",
       "        vertical-align: top;\n",
       "    }\n",
       "\n",
       "    .dataframe thead th {\n",
       "        text-align: right;\n",
       "    }\n",
       "</style>\n",
       "<table border=\"1\" class=\"dataframe\">\n",
       "  <thead>\n",
       "    <tr style=\"text-align: right;\">\n",
       "      <th></th>\n",
       "      <th>Averages</th>\n",
       "    </tr>\n",
       "  </thead>\n",
       "  <tbody>\n",
       "    <tr>\n",
       "      <th>wage</th>\n",
       "      <td>1148.039</td>\n",
       "    </tr>\n",
       "    <tr>\n",
       "      <th>education</th>\n",
       "      <td>12.845</td>\n",
       "    </tr>\n",
       "    <tr>\n",
       "      <th>experience</th>\n",
       "      <td>22.854</td>\n",
       "    </tr>\n",
       "  </tbody>\n",
       "</table>\n",
       "</div>"
      ],
      "text/plain": [
       "            Averages\n",
       "wage        1148.039\n",
       "education     12.845\n",
       "experience    22.854"
      ]
     },
     "execution_count": 7,
     "metadata": {},
     "output_type": "execute_result"
    }
   ],
   "source": [
    "# select the relevant variables and find their mean\n",
    "averages = np.mean(stats[['wage', 'education', 'experience']])\n",
    "\n",
    "# round the averages and label the columns\n",
    "avg_col = pd.DataFrame(averages, columns=['Averages'])\n",
    "# print\n",
    "round(avg_col,3)"
   ]
  },
  {
   "cell_type": "code",
   "execution_count": 8,
   "metadata": {
    "code_folding": [
     0
    ]
   },
   "outputs": [
    {
     "data": {
      "text/html": [
       "<div>\n",
       "<style scoped>\n",
       "    .dataframe tbody tr th:only-of-type {\n",
       "        vertical-align: middle;\n",
       "    }\n",
       "\n",
       "    .dataframe tbody tr th {\n",
       "        vertical-align: top;\n",
       "    }\n",
       "\n",
       "    .dataframe thead th {\n",
       "        text-align: right;\n",
       "    }\n",
       "</style>\n",
       "<table border=\"1\" class=\"dataframe\">\n",
       "  <thead>\n",
       "    <tr style=\"text-align: right;\">\n",
       "      <th></th>\n",
       "      <th>wage</th>\n",
       "      <th>education</th>\n",
       "      <th>experience</th>\n",
       "      <th>corrwadge_educ</th>\n",
       "    </tr>\n",
       "    <tr>\n",
       "      <th>gender</th>\n",
       "      <th></th>\n",
       "      <th></th>\n",
       "      <th></th>\n",
       "      <th></th>\n",
       "    </tr>\n",
       "  </thead>\n",
       "  <tbody>\n",
       "    <tr>\n",
       "      <th>female</th>\n",
       "      <td>735.820896</td>\n",
       "      <td>12.835821</td>\n",
       "      <td>20.014925</td>\n",
       "      <td>0.670763</td>\n",
       "    </tr>\n",
       "    <tr>\n",
       "      <th>male</th>\n",
       "      <td>1200.346591</td>\n",
       "      <td>12.846591</td>\n",
       "      <td>23.214015</td>\n",
       "      <td>0.449465</td>\n",
       "    </tr>\n",
       "  </tbody>\n",
       "</table>\n",
       "</div>"
      ],
      "text/plain": [
       "               wage  education  experience  corrwadge_educ\n",
       "gender                                                    \n",
       "female   735.820896  12.835821   20.014925        0.670763\n",
       "male    1200.346591  12.846591   23.214015        0.449465"
      ]
     },
     "execution_count": 8,
     "metadata": {},
     "output_type": "execute_result"
    }
   ],
   "source": [
    "# calculate the averages, separated by gender\n",
    "bygender = stats.groupby(['gender'])[['wage', 'education', 'experience']].mean()\n",
    "\n",
    "# calculate the correlation between education and wage for each gender\n",
    "corrwage_educ = stats.groupby(['gender'])[['wage','education']].corr().unstack().iloc[:,1]\n",
    "\n",
    "# attach this to your table\n",
    "bygender['corrwadge_educ'] = corrwage_educ\n",
    "bygender\n",
    "\n"
   ]
  },
  {
   "attachments": {},
   "cell_type": "markdown",
   "metadata": {},
   "source": [
    "## Observations\n",
    "\n",
    "The first thing that caught my attention was the difference in average wage between males and females. Males earn a little more than the overall average while females earn roughly 36 percent below average. Interestingly, both males and females have about the same education level. Also worth noting is that the correlation between wage and education is stronger for females than males despite the lesser pay. "
   ]
  },
  {
   "cell_type": "markdown",
   "metadata": {},
   "source": [
    "# Graphs \n",
    "\n",
    "Let's look at those numbers using graphs. "
   ]
  },
  {
   "cell_type": "markdown",
   "metadata": {},
   "source": [
    "## Plot wages as a function of education "
   ]
  },
  {
   "cell_type": "code",
   "execution_count": 9,
   "metadata": {
    "code_folding": [
     0
    ]
   },
   "outputs": [
    {
     "data": {
      "image/png": "[encoded data removed]",
      "text/plain": [
       "<Figure size 432x288 with 1 Axes>"
      ]
     },
     "metadata": {
      "needs_background": "light"
     },
     "output_type": "display_data"
    }
   ],
   "source": [
    "# use help(sns.regplot()) check the documentation for this function \n",
    "# use line_kws= {'color':'blue'} to change color of the line\n",
    "# scatter_kws={'color':'red', 's':5} to change color and size of dots\n",
    "\n",
    "%matplotlib inline\n",
    "sns.regplot(x='education', y='wage', data=stats, x_jitter = 0.2,line_kws= {'color':'blue'},\n",
    "                        scatter_kws={'color':'red', 's':5}).set(title= 'Wages vs Education',\n",
    "                                                  xlabel=\"Education\", ylabel = \"Wages\", \n",
    "                                                  );\n"
   ]
  },
  {
   "cell_type": "markdown",
   "metadata": {},
   "source": [
    "## Plot wages as a function of education, separated by gender"
   ]
  },
  {
   "cell_type": "code",
   "execution_count": 16,
   "metadata": {
    "code_folding": [
     0
    ]
   },
   "outputs": [
    {
     "data": {
      "image/png": "[encoded data removed]",
      "text/plain": [
       "<Figure size 728x360 with 2 Axes>"
      ]
     },
     "metadata": {
      "needs_background": "light"
     },
     "output_type": "display_data"
    }
   ],
   "source": [
    "# same plot but now split by gender\n",
    "sns.lmplot(x='education', y='wage', col='gender', scatter_kws={'color':'red','alpha':0.3}, \n",
    "        data=stats).add_legend();\n"
   ]
  },
  {
   "cell_type": "markdown",
   "metadata": {},
   "source": [
    "# Simple regression analysis\n",
    "\n",
    "Now let's use the data to estimate the following equation\n",
    "$$ wage = \\beta_0 + \\beta_1*education + u $$\n",
    "\n",
    "Estimate this equation using the step by step method learned last class, the method that minimizes SSR and the variance covarance method. (3 ways first)\n",
    "\n",
    "### Equation system results: step-by-step"
   ]
  },
  {
   "cell_type": "code",
   "execution_count": 11,
   "metadata": {
    "code_folding": [
     0
    ]
   },
   "outputs": [
    {
     "name": "stdout",
     "output_type": "stream",
     "text": [
      "b1: 83.88785655141531\n",
      "\n",
      "b0: 70.4674157605591\n",
      "\n"
     ]
    }
   ],
   "source": [
    "# select your x and y variables\n",
    "x = stats['education']\n",
    "y = stats['wage']\n",
    "\n",
    "# ingredients to the OLS formulas:\n",
    "sumxy = np.sum((x - np.mean(x))*(y - np.mean(y)))\n",
    "sumx2 = np.sum((x - np.mean(x))**2)\n",
    "sumy2 = np.sum((y - np.mean(y))**2)\n",
    "x_bar = np.mean(x)\n",
    "y_bar = np.mean(y)\n",
    "\n",
    "# manual calculation of OLS coefficients:\n",
    "b1 = sumxy/sumx2\n",
    "b0 = y_bar - b1 * x_bar\n",
    "\n",
    "print(f'b1: {b1}\\n')\n",
    "print(f'b0: {b0}\\n')"
   ]
  },
  {
   "cell_type": "markdown",
   "metadata": {},
   "source": [
    "### Function minimization results \n"
   ]
  },
  {
   "cell_type": "code",
   "execution_count": 17,
   "metadata": {
    "code_folding": [
     0
    ]
   },
   "outputs": [
    {
     "name": "stdout",
     "output_type": "stream",
     "text": [
      "[70.46925847 83.88772698]\n"
     ]
    }
   ],
   "source": [
    "# initialize beta parameters\n",
    "b = np.array([0.5,0.5])\n",
    "# create column of constants\n",
    "k = np.ones(len(x))\n",
    "# create function for sum of square residuals\n",
    "def sse(b,y,x,k):\n",
    "    return np.sum((y-b[0]*k-b[1]*x)**2)\n",
    "# find the parameters that minimize SSR\n",
    "resa = minimize(fun=sse, args=(y,x,k), x0=b)\n",
    "\n",
    "# print results\n",
    "print(resa['x'])"
   ]
  },
  {
   "cell_type": "markdown",
   "metadata": {},
   "source": [
    "### Covariance , variance method\n",
    "Using the `np.cov(x,y)` and `np.var(x)` functions in Python calculate the $\\hat\\beta_0, \\hat\\beta_1$ based on the equation below.\n",
    "$$\\hat\\beta_1=\\frac{Cov(x,y)}{Var(x)}$$ \n",
    "$$\\hat\\beta_0 = \\bar{y} - \\hat\\beta_1 \\bar{x}$$"
   ]
  },
  {
   "cell_type": "code",
   "execution_count": 13,
   "metadata": {
    "code_folding": []
   },
   "outputs": [
    {
     "name": "stdout",
     "output_type": "stream",
     "text": [
      "b1: 83.8878565514152\n",
      "\n",
      "b0: 70.4674157605607\n",
      "\n"
     ]
    }
   ],
   "source": [
    "# ingredients to the OLS formulas:\n",
    "cov_xy = np.cov(x, y)[1,0]\n",
    "var_x = np.var(x, ddof=1)\n",
    "x_bar = np.mean(x)\n",
    "y_bar = np.mean(y)\n",
    "\n",
    "# manual calculation of OLS coefficients:\n",
    "b1 = cov_xy / var_x\n",
    "b0 = y_bar - b1 * x_bar\n",
    "print(f'b1: {b1}\\n')\n",
    "print(f'b0: {b0}\\n')"
   ]
  },
  {
   "cell_type": "markdown",
   "metadata": {},
   "source": [
    "### `ols()` command \n",
    "\n",
    "Finally use the `ols()` command to estimate save your estimation in an object called reg and show the summary of your model. \n",
    "$$ log(wage) = \\beta_0 + \\beta_1*education + u $$\n",
    "What can you say about these new results? Why is it better to use $log(wages)$?\n",
    "What is your interpretation of the coeficients and the $R^2$?"
   ]
  },
  {
   "cell_type": "code",
   "execution_count": 14,
   "metadata": {
    "code_folding": []
   },
   "outputs": [
    {
     "name": "stdout",
     "output_type": "stream",
     "text": [
      "results.summary(): \n",
      "                            OLS Regression Results                            \n",
      "==============================================================================\n",
      "Dep. Variable:              np.log(y)   R-squared:                       0.208\n",
      "Model:                            OLS   Adj. R-squared:                  0.207\n",
      "Method:                 Least Squares   F-statistic:                     156.2\n",
      "Date:                Mon, 13 Feb 2023   Prob (F-statistic):           5.64e-32\n",
      "Time:                        19:23:47   Log-Likelihood:                -283.58\n",
      "No. Observations:                 595   AIC:                             571.2\n",
      "Df Residuals:                     593   BIC:                             579.9\n",
      "Df Model:                           1                                         \n",
      "Covariance Type:            nonrobust                                         \n",
      "==============================================================================\n",
      "                 coef    std err          t      P>|t|      [0.025      0.975]\n",
      "------------------------------------------------------------------------------\n",
      "Intercept      6.0292      0.075     79.899      0.000       5.881       6.177\n",
      "x              0.0717      0.006     12.497      0.000       0.060       0.083\n",
      "==============================================================================\n",
      "Omnibus:                        2.787   Durbin-Watson:                   1.839\n",
      "Prob(Omnibus):                  0.248   Jarque-Bera (JB):                2.604\n",
      "Skew:                          -0.153   Prob(JB):                        0.272\n",
      "Kurtosis:                       3.105   Cond. No.                         62.3\n",
      "==============================================================================\n",
      "\n",
      "Notes:\n",
      "[1] Standard Errors assume that the covariance matrix of the errors is correctly specified.\n",
      "\n"
     ]
    }
   ],
   "source": [
    "# estimate log-level model:\n",
    "reg = smf.ols(formula='np.log(y) ~ x', data=stats)\n",
    "results = reg.fit()\n",
    "results.summary()\n",
    "\n",
    "# Put all vectors into a data frame to work with it later \n",
    "# and becasue you need that format for the graphs\n",
    "table = pd.DataFrame({'b': round(results.params, 3),\n",
    "                      'se': round(results.bse, 3),\n",
    "                      't': round(results.tvalues, 3),\n",
    "                      'pval': round(results.pvalues, 3)})\n",
    "\n",
    "# print results using summary:\n",
    "print(f'results.summary(): \\n{results.summary()}\\n')\n"
   ]
  },
  {
   "attachments": {},
   "cell_type": "markdown",
   "metadata": {},
   "source": [
    "### Observations \n",
    "The estimated model is $$\\widehat{log(wage)} = 6.03 + 0.072 * education$$ with 595 observations and an R-squared value of 0.208. I was a little surprise of how little education explains the variation of wage due to its small R-squared value. I think we generally assume that education plays an important role in wages, but our analysis claims otherwise. I think one of the reasons we should use log wages is to normalize the distribution of the dependent variable. In addition, it gives a better interpretation of how much the change in education affects wage on a per-unit basis, specifically on a percentage-basis. The coefficient of the model suggests that a one-unit increase in education leads to about a seven percent increase in wage. "
   ]
  },
  {
   "attachments": {},
   "cell_type": "markdown",
   "metadata": {},
   "source": [
    "<style>\n",
    "div.gray { background-color:#dbdbdb; border-radius: 5px; padding: 20px;}\n",
    "</style>\n",
    "<div class = \"gray\">\n",
    "\n",
    "**Packages used in this document**\n",
    "\n",
    "`wooldridge`  \n",
    "`matplot.lib`  \n",
    "`pandas`  \n",
    "`numpy`    \n",
    "`seaborn`   \n",
    "`statsmodels.formula.api`    \n",
    "`scipy.stats`  \n",
    "`scipy.optimize`   \n",
    "    \n",
    "\n",
    "</div>"
   ]
  },
  {
   "cell_type": "markdown",
   "metadata": {},
   "source": [
    "&nbsp;\n",
    "<hr />\n",
    "<p style=\"font-family:palatino; text-align: center;font-size: 15px\">ECON320 Python Programming Laboratory</a></p>\n",
    "<p style=\"font-family:palatino; text-align: center;font-size: 15px\">Professor <em> Paloma Lopez de mesa Moyano</em></a></p>\n",
    "<p style=\"font-family:palatino; text-align: center;font-size: 15px\"><span style=\"color: #6666FF;\"><em>paloma.moyano@emory.edu</em></span></p>\n",
    "\n",
    "<p style=\"font-family:palatino; text-align: center;font-size: 15px\">Department of Economics</a></p>\n",
    "<p style=\"font-family:palatino; text-align: center; color: #012169;font-size: 15px\">Emory University</a></p>\n",
    "\n",
    "\n",
    "&nbsp;"
   ]
  },
  {
   "cell_type": "code",
   "execution_count": 23,
   "metadata": {},
   "outputs": [
    {
     "name": "stderr",
     "output_type": "stream",
     "text": [
      "[NbConvertApp] Converting notebook Econ320Lab_Assign2_v1_empty.ipynb to html\n",
      "[NbConvertApp] Writing 692782 bytes to Econ320Lab_Assign2_v1_empty.html\n"
     ]
    }
   ],
   "source": [
    "!jupyter nbconvert --to html Econ320Lab_Assign2_v1_empty.ipynb\n",
    "#!jupyter nbconvert --to html --TemplateExporter.exclude_input=True Econ320Lab_Assign1_v2.ipynb\n"
   ]
  }
 ],
 "metadata": {
  "kernelspec": {
   "display_name": "base",
   "language": "python",
   "name": "python3"
  },
  "language_info": {
   "codemirror_mode": {
    "name": "ipython",
    "version": 3
   },
   "file_extension": ".py",
   "mimetype": "text/x-python",
   "name": "python",
   "nbconvert_exporter": "python",
   "pygments_lexer": "ipython3",
   "version": "3.9.12"
  },
  "toc": {
   "base_numbering": 1,
   "nav_menu": {},
   "number_sections": false,
   "sideBar": true,
   "skip_h1_title": false,
   "title_cell": "Table of Contents",
   "title_sidebar": "Contents",
   "toc_cell": false,
   "toc_position": {},
   "toc_section_display": true,
   "toc_window_display": false
  },
  "varInspector": {
   "cols": {
    "lenName": 16,
    "lenType": 16,
    "lenVar": 40
   },
   "kernels_config": {
    "python": {
     "delete_cmd_postfix": "",
     "delete_cmd_prefix": "del ",
     "library": "var_list.py",
     "varRefreshCmd": "print(var_dic_list())"
    },
    "r": {
     "delete_cmd_postfix": ") ",
     "delete_cmd_prefix": "rm(",
     "library": "var_list.r",
     "varRefreshCmd": "cat(var_dic_list()) "
    }
   },
   "types_to_exclude": [
    "module",
    "function",
    "builtin_function_or_method",
    "instance",
    "_Feature"
   ],
   "window_display": false
  },
  "vscode": {
   "interpreter": {
    "hash": "6c3c1a23f34c945876c4201cdd0a0b710b6b708a5541757240e15335e816e9c2"
   }
  }
 },
 "nbformat": 4,
 "nbformat_minor": 4
}
